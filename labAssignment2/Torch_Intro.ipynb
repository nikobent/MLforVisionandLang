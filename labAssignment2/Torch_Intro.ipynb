{
 "cells": [
  {
   "cell_type": "markdown",
   "metadata": {},
   "source": [
    "# 🔥 Torch Intro 🔥\n",
    "\n",
    "## What is PyTorch?\n",
    "PyTorch (or just torch) is a python deep learning library, by now getting widely adopted both in research and industry. Like most deep learning libraries it employs GPU accelaration; unlike most deep learning libraries, it supports dynamic computational graphs and deep python integration, enabling easy experimentation and code inspection. It provides high-level abstractions but also allows for low-level access to its primitives. You can read more about PyTorch at the official [site](https://pytorch.org/).\n",
    "\n",
    "## Installing PyTorch on your machine\n",
    "Install PyTorch by following the guidelines here [here](https://pytorch.org/get-started/locally/).\n",
    "\n",
    "<div class=\"alert alert-block alert-info\">\n",
    "<b>Note:</b> If you have an nVidia GPU, installing a CUDA version of PyTorch will allow you to utilize it, significantly speeding up computation.\n",
    "</div>\n",
    "\n",
    "# This Tutorial\n",
    "This tutorial will take you through PyTorch's main functionalities. It only aims to give you some insight on how to use PyTorch and is by no means a full tutorial on neural networks. Prior knowledge of neural netowrks and their inner workings (i.e. linear algebra, gradient-based optimization, back-propagation, etc.) will certainly prove useful. You are assumed to be largely fluent in python.\n",
    "\n",
    "# Table of Contents\n",
    "1. [Tensors](#1)\n",
    "    1. [Tensor Types](#1a)\n",
    "    2. [Instantiating Tensors](#1b)\n",
    "    3. [Basic Tensor Operations](#1c)\n",
    "    4. [Exercises](#1d)\n",
    "2. [Automatic Differentation](#2)\n",
    "    1. [Autograd](#2a)\n",
    "    2. [Exercises](#2b)\n",
    "3. [Neural Networks](#3)\n",
    "    1. [Custom Neural Networks](#3a)\n",
    "    2. [Loss Functions](#3b)\n",
    "    3. [Optimizers](#3c)\n",
    "    4. [Exercises](#3d)\n",
    "4. [Putting Everything Together](#4)\n",
    "\n",
    "\n",
    "For a more in-depth overview of PyTorch's capabilities, refer to the [official documentation](https://pytorch.org/docs/stable/index.html) (this link will prove handy for your assignments-- keep it close and use it often).\n",
    "\n",
    "---"
   ]
  },
  {
   "cell_type": "markdown",
   "metadata": {},
   "source": [
    "#### Getting started\n",
    "Let's verify your torch installation is working by trying to import it."
   ]
  },
  {
   "cell_type": "code",
   "execution_count": 1,
   "metadata": {},
   "outputs": [],
   "source": [
    "import torch"
   ]
  },
  {
   "cell_type": "markdown",
   "metadata": {},
   "source": [
    "<a id='1'></a>\n",
    "## 1. Tensors\n",
    "\n",
    "A [Tensor](https://pytorch.org/docs/stable/tensors.html) is the building block of any PyTorch program; it is the abstraction that stores n-ary arrays of numbers (i.e. tensors) and provides various functionalities for processing them. \n",
    "\n",
    "<a id='1a'></a>\n",
    "### A. Tensor Types\n",
    "\n",
    "There are 16 types of Tensors, distinguished by their `dtypes` (the sort of numbers stored within them) and the `device` they can be accessed by (either GPU or CPU).\n",
    "\n",
    "The different Tensor types and their corresponding classes are shown below:\n",
    "\n",
    "|  | dtype | CPU Tensor Class | GPU Tensor Class |\n",
    "| --- | --- | --- | --- |\n",
    "| Full precision float | `torch.float32` | `torch.FloatTensor` | `torch.cuda.FloatTensor`| \n",
    "| Half precision float | `torch.float16` | `torch.HalfTensor` | `torch.cuda.HalfTensor` |\n",
    "| Double precision float | `torch.float64` | `torch.DoubleTensor` | `torch.cuda.DoubleTensor` |\n",
    "| 8-bit unsigned integer | `torch.uint8` | `torch.ByteTensor` | `torch.cuda.ByteTensor` |\n",
    "| 8-bit signed integer | `torch.int8` | `torch.CharTensor` | `torch.CharTensor` |\n",
    "| 16-bit signed integer | `torch.int16` | `torch.ShortTensor` | `torch.cuda.ShortTensor` |\n",
    "| 32-bit signed integer | `torch.int32` | `torch.IntTensor` | `torch.cuda.IntTensor` |\n",
    "| 64-bit signed integer | `torch.int64` | `torch.LongTensor` | `torch.cuda.LongTensor` |\n",
    "\n",
    "<div class=\"alert alert-block alert-warning\">\n",
    "<b>Warning:</b>\n",
    "Interaction between Tensors of different devices or dtypes is not permitted (so make sure you are consistent). \n",
    "</div>\n",
    "\n",
    "We are mostly interested in full precision floats and long integers (on either device), so we can forget about the rest of them for now."
   ]
  },
  {
   "cell_type": "markdown",
   "metadata": {},
   "source": [
    "<a id='1b'></a>\n",
    "### B. Instantiating Tensors\n",
    "Tensors can be instantiated in a number of ways. When we want to construct a placeholder tensor of fixed dimensionality, we may simply call the appropriate class constructor."
   ]
  },
  {
   "cell_type": "code",
   "execution_count": 2,
   "metadata": {},
   "outputs": [],
   "source": [
    "my_first_long_tensor = torch.LongTensor(5)  # a vector of 5 longs\n",
    "my_first_float_tensor = torch.FloatTensor(5,5)  # a 5 by 5 matrix of floats"
   ]
  },
  {
   "cell_type": "markdown",
   "metadata": {},
   "source": [
    "Alternatively, we may use the abstract constructor `torch.tensor` and use the `dtype` and `device` arguments to specify its type (these default to torch.float and cpu, in the general case)."
   ]
  },
  {
   "cell_type": "code",
   "execution_count": 3,
   "metadata": {},
   "outputs": [],
   "source": [
    "my_second_long_tensor = torch.tensor(5, device='cpu', dtype=torch.long) # another vector of 5 longs\n",
    "my_second_float_tensor = torch.tensor((5, 5), device='cpu', dtype=torch.float)"
   ]
  },
  {
   "cell_type": "markdown",
   "metadata": {},
   "source": [
    "For the sake of convenience, we will now specify the device used by the rest of the tutorial. If you have the cuda version installed but would rather not use it, change the snippet below."
   ]
  },
  {
   "cell_type": "code",
   "execution_count": 4,
   "metadata": {},
   "outputs": [
    {
     "name": "stdout",
     "output_type": "stream",
     "text": [
      "Using cuda\n"
     ]
    }
   ],
   "source": [
    "if torch.cuda.is_available():\n",
    "    device = 'cuda'\n",
    "else:\n",
    "    device = 'cpu'\n",
    "\n",
    "print('Using {}'.format(device))"
   ]
  },
  {
   "cell_type": "code",
   "execution_count": 5,
   "metadata": {},
   "outputs": [
    {
     "name": "stdout",
     "output_type": "stream",
     "text": [
      "True\n"
     ]
    }
   ],
   "source": [
    "print(torch.cuda.is_available())"
   ]
  },
  {
   "cell_type": "markdown",
   "metadata": {},
   "source": [
    "There are a few useful short-hands for constructing tensors with commonly used values. Let's use some of them."
   ]
  },
  {
   "cell_type": "code",
   "execution_count": 6,
   "metadata": {},
   "outputs": [],
   "source": [
    "a = torch.zeros((2,3,4), device=device)  # a 2 by 3 by 4 tensor of zeroes\n",
    "b = torch.ones(42, device=device)  # a vector of 42 ones\n",
    "c = torch.eye(3, device=device)  # the 3 by 3 identity matrix\n",
    "d = torch.rand((32,10,300), device=device)  # a 32 by 10 by 300 tensor of randoms\n",
    "e = torch.randint(low=0, high=10, size=(3,3), device=device)  # a 3 by 3 matrix of random integers between 0 and 10\n",
    "f = torch.arange(10, device=device)  # a vector containing the numbers 0 to 9 in ascending order"
   ]
  },
  {
   "cell_type": "markdown",
   "metadata": {},
   "source": [
    "We can always query a tensor's contents, shape, dtype and device."
   ]
  },
  {
   "cell_type": "code",
   "execution_count": 7,
   "metadata": {},
   "outputs": [
    {
     "name": "stdout",
     "output_type": "stream",
     "text": [
      "torch.Size([2, 3, 4])\n",
      "cuda:0\n",
      "\n",
      "\n",
      "torch.Size([42])\n",
      "cuda:0\n",
      "\n",
      "\n",
      "torch.Size([3, 3])\n",
      "cuda:0\n",
      "\n",
      "\n",
      "torch.Size([32, 10, 300])\n",
      "cuda:0\n",
      "\n",
      "\n",
      "torch.Size([3, 3])\n",
      "cuda:0\n",
      "\n",
      "\n",
      "torch.Size([10])\n",
      "cuda:0\n",
      "\n",
      "\n"
     ]
    }
   ],
   "source": [
    "for te in [a, b, c, d, e, f]:\n",
    "    print(te.shape)\n",
    "    print(te.device)\n",
    "    # print(te)\n",
    "    print('\\n')"
   ]
  },
  {
   "cell_type": "markdown",
   "metadata": {},
   "source": [
    "We can also specify the values of a tensor by passing a list (of lists*) of values during its construction."
   ]
  },
  {
   "cell_type": "code",
   "execution_count": 8,
   "metadata": {},
   "outputs": [
    {
     "name": "stdout",
     "output_type": "stream",
     "text": [
      "tensor([[1, 2, 3],\n",
      "        [4, 5, 6],\n",
      "        [7, 8, 9]], device='cuda:0')\n",
      "torch.Size([3, 3])\n",
      "torch.int64\n"
     ]
    }
   ],
   "source": [
    "a = torch.tensor([[1,2,3], [4,5,6], [7,8,9]], device=device)\n",
    "print(a)\n",
    "print(a.shape)\n",
    "print(a.dtype)"
   ]
  },
  {
   "cell_type": "markdown",
   "metadata": {},
   "source": [
    "Notice that PyTorch automatically assumed that the tensor we specified should be of type long (because we only provided integers as the tensor's contents). We could of course avoid this by manually specifying the dtype. Alternatively, we can alter the dtype and/or device post-construction."
   ]
  },
  {
   "cell_type": "code",
   "execution_count": 9,
   "metadata": {},
   "outputs": [
    {
     "name": "stdout",
     "output_type": "stream",
     "text": [
      "torch.float32\n",
      "cpu\n"
     ]
    }
   ],
   "source": [
    "a = a.to(torch.float)\n",
    "print(a.dtype)\n",
    "a = a.to('cpu')  # or alternatively, a = a.cpu()\n",
    "print(a.device)"
   ]
  },
  {
   "cell_type": "markdown",
   "metadata": {},
   "source": [
    "Finally, a torch tensor can also be directy constructed by (or converted to) a numpy array. Converting to a numpy array only works for _cpu_ tensors."
   ]
  },
  {
   "cell_type": "code",
   "execution_count": 10,
   "metadata": {},
   "outputs": [
    {
     "name": "stdout",
     "output_type": "stream",
     "text": [
      "[[0.33770559 0.70429281]\n",
      " [0.437464   0.95671977]]\n",
      "tensor([[0.3377, 0.7043],\n",
      "        [0.4375, 0.9567]], device='cuda:0', dtype=torch.float64)\n",
      "[[0.33770559 0.70429281]\n",
      " [0.437464   0.95671977]]\n"
     ]
    }
   ],
   "source": [
    "import numpy as np\n",
    "a_np = np.random.random((2,2))\n",
    "a_torch = torch.tensor(a_np, device=device)\n",
    "print(a_np)\n",
    "print(a_torch)\n",
    "a_np_2 = a_torch.cpu().numpy()\n",
    "print(a_np_2)"
   ]
  },
  {
   "cell_type": "code",
   "execution_count": 11,
   "metadata": {},
   "outputs": [],
   "source": [
    "del a_np, a_torch, a_np_2, b, c, d, my_first_long_tensor, my_first_float_tensor, my_second_long_tensor, my_second_float_tensor, e, f"
   ]
  },
  {
   "cell_type": "markdown",
   "metadata": {},
   "source": [
    "<a id='1c'></a>\n",
    "### C. Basic Tensor Operations\n",
    "Tensors and their contents' are not hidden by the framework-- they are immediatelly accessible to us and we can interact with them in many ways, while being able to inspect the results of our actions. Let's walk through some of the most common usecases."
   ]
  },
  {
   "cell_type": "markdown",
   "metadata": {},
   "source": [
    "#### Indexing and Slicing\n",
    "Standard python indexing and slicing applies to torch tensors. Let's remember how that works-- first we will need a random matrix to experiment with."
   ]
  },
  {
   "cell_type": "code",
   "execution_count": 12,
   "metadata": {},
   "outputs": [
    {
     "name": "stdout",
     "output_type": "stream",
     "text": [
      "tensor([[0.9466, 0.0355, 0.1952],\n",
      "        [0.9694, 0.7484, 0.7210],\n",
      "        [0.1698, 0.4065, 0.7904],\n",
      "        [0.6896, 0.7404, 0.9192],\n",
      "        [0.5104, 0.7300, 0.3875]])\n"
     ]
    }
   ],
   "source": [
    "a = torch.rand((5,3), device=device)  \n",
    "print(a)"
   ]
  },
  {
   "cell_type": "markdown",
   "metadata": {},
   "source": [
    "<div class=\"alert alert-block alert-warning\">\n",
    "<b>Remember!</b>\n",
    "Indexing starts from zero\n",
    "</div>\n",
    "\n",
    "Now let's try retrieving the 3rd item of the 1st row."
   ]
  },
  {
   "cell_type": "code",
   "execution_count": 13,
   "metadata": {},
   "outputs": [
    {
     "name": "stdout",
     "output_type": "stream",
     "text": [
      "tensor(0.1952)\n"
     ]
    }
   ],
   "source": [
    "b = a[0][2]\n",
    "print(b)"
   ]
  },
  {
   "cell_type": "markdown",
   "metadata": {},
   "source": [
    "What if we wanted the first three rows of the matrix instead?"
   ]
  },
  {
   "cell_type": "code",
   "execution_count": 14,
   "metadata": {},
   "outputs": [
    {
     "name": "stdout",
     "output_type": "stream",
     "text": [
      "tensor([[0.9466, 0.0355, 0.1952],\n",
      "        [0.9694, 0.7484, 0.7210],\n",
      "        [0.1698, 0.4065, 0.7904]])\n"
     ]
    }
   ],
   "source": [
    "c = a[:3]\n",
    "print(c)"
   ]
  },
  {
   "cell_type": "markdown",
   "metadata": {},
   "source": [
    "Or its third column?"
   ]
  },
  {
   "cell_type": "code",
   "execution_count": 15,
   "metadata": {},
   "outputs": [
    {
     "name": "stdout",
     "output_type": "stream",
     "text": [
      "tensor([0.1952, 0.7210, 0.7904, 0.9192, 0.3875])\n"
     ]
    }
   ],
   "source": [
    "c = a[:, 2]\n",
    "print(c)"
   ]
  },
  {
   "cell_type": "markdown",
   "metadata": {},
   "source": [
    "Or every second element of the first column, starting from the second?"
   ]
  },
  {
   "cell_type": "code",
   "execution_count": 16,
   "metadata": {},
   "outputs": [
    {
     "name": "stdout",
     "output_type": "stream",
     "text": [
      "tensor([0.9694, 0.6896])\n"
     ]
    }
   ],
   "source": [
    "c = a[1::2, 0]\n",
    "print(c)"
   ]
  },
  {
   "cell_type": "markdown",
   "metadata": {},
   "source": [
    "But now in reverse, starting from the last?!"
   ]
  },
  {
   "cell_type": "code",
   "execution_count": 20,
   "metadata": {},
   "outputs": [
    {
     "ename": "ValueError",
     "evalue": "step must be greater than zero",
     "output_type": "error",
     "traceback": [
      "\u001b[1;31m---------------------------------------------------------------------------\u001b[0m",
      "\u001b[1;31mValueError\u001b[0m                                Traceback (most recent call last)",
      "\u001b[1;32m<ipython-input-20-bee5dda3d0ea>\u001b[0m in \u001b[0;36m<module>\u001b[1;34m\u001b[0m\n\u001b[1;32m----> 1\u001b[1;33m \u001b[0mc\u001b[0m \u001b[1;33m=\u001b[0m \u001b[0ma\u001b[0m\u001b[1;33m[\u001b[0m\u001b[1;33m-\u001b[0m\u001b[1;36m1\u001b[0m\u001b[1;33m:\u001b[0m\u001b[1;33m:\u001b[0m\u001b[1;33m-\u001b[0m\u001b[1;36m2\u001b[0m\u001b[1;33m,\u001b[0m \u001b[1;36m0\u001b[0m\u001b[1;33m]\u001b[0m\u001b[1;33m\u001b[0m\u001b[1;33m\u001b[0m\u001b[0m\n\u001b[0m\u001b[0;32m      2\u001b[0m \u001b[0mprint\u001b[0m\u001b[1;33m(\u001b[0m\u001b[0mc\u001b[0m\u001b[1;33m)\u001b[0m\u001b[1;33m\u001b[0m\u001b[1;33m\u001b[0m\u001b[0m\n\u001b[0;32m      3\u001b[0m \u001b[1;31m#ERROR because step is lower than zero\u001b[0m\u001b[1;33m\u001b[0m\u001b[1;33m\u001b[0m\u001b[1;33m\u001b[0m\u001b[0m\n",
      "\u001b[1;31mValueError\u001b[0m: step must be greater than zero"
     ]
    }
   ],
   "source": [
    "c = a[-1::-2, 0]\n",
    "print(c)\n",
    "#ERROR because step is lower than zero"
   ]
  },
  {
   "cell_type": "markdown",
   "metadata": {},
   "source": [
    "Well, perhaps not.."
   ]
  },
  {
   "cell_type": "markdown",
   "metadata": {},
   "source": [
    "#### Value Assignment\n",
    "We can use the exact same scheme to assign values to tensors."
   ]
  },
  {
   "cell_type": "code",
   "execution_count": 21,
   "metadata": {},
   "outputs": [
    {
     "name": "stdout",
     "output_type": "stream",
     "text": [
      "tensor([[0.0000, 0.0355, 0.1952],\n",
      "        [0.9694, 0.7484, 0.7210],\n",
      "        [0.1698, 0.4065, 0.7904],\n",
      "        [0.6896, 0.7404, 0.9192],\n",
      "        [0.5104, 0.7300, 0.3875]])\n",
      "tensor([[0.8717, 0.9678, 0.5604],\n",
      "        [0.3581, 0.0625, 0.2870],\n",
      "        [0.0942, 0.9735, 0.6379],\n",
      "        [0.2392, 0.6828, 0.3762],\n",
      "        [0.3668, 0.6776, 0.9789]])\n",
      "tensor([[0.0000, 0.0355, 0.1952],\n",
      "        [0.0942, 0.9735, 0.6379],\n",
      "        [0.1698, 0.4065, 0.7904],\n",
      "        [0.6896, 0.7404, 0.9192],\n",
      "        [0.5104, 0.7300, 0.3875]])\n"
     ]
    }
   ],
   "source": [
    "# Set the top left item of the matrix to zero.\n",
    "a[0,0] = 0\n",
    "print(a)\n",
    "\n",
    "# Construct another random matrix of the same shape\n",
    "b = torch.rand_like(a, device=device)\n",
    "print(b)\n",
    "\n",
    "# Set the second row of matrix a to be the third row of matrix b\n",
    "a[1] = b[2]\n",
    "print(a)"
   ]
  },
  {
   "cell_type": "markdown",
   "metadata": {},
   "source": [
    "#### Element-wise Arithmetic\n",
    "Element-wise operations (most importantly comparison, addition, subtraction, multiplication and division) can be applied on tensors of compatible shapes (i.e. shapes that can be [broadcasted](https://pytorch.org/docs/stable/notes/broadcasting.html)). \n",
    "\n",
    "Two tensors are compatible if any of the two below conditions hold:\n",
    "* their shapes are the same \n",
    "* their trailing (i.e. last) N dimensions are the same (possibly excluding missing dimensions and dimensions of size 1)\n",
    "\n",
    "Scalars (single values) are compatible with tensors of any shape. Let's see some examples."
   ]
  },
  {
   "cell_type": "markdown",
   "metadata": {},
   "source": [
    "First, some fresh tensors."
   ]
  },
  {
   "cell_type": "code",
   "execution_count": 22,
   "metadata": {},
   "outputs": [],
   "source": [
    "a = torch.zeros((2, 3, 4), device=device)  \n",
    "b = torch.ones((2, 3, 4), device=device)  \n",
    "c = torch.ones((3, 4), device=device)  \n",
    "d = torch.ones((2, 3, 1), device=device)\n",
    "e = torch.rand((4, 3, 2), device=device)"
   ]
  },
  {
   "cell_type": "markdown",
   "metadata": {},
   "source": [
    "We can add a scalar to tensor a "
   ]
  },
  {
   "cell_type": "code",
   "execution_count": 23,
   "metadata": {},
   "outputs": [
    {
     "name": "stdout",
     "output_type": "stream",
     "text": [
      "torch.Size([2, 3, 4])\n"
     ]
    }
   ],
   "source": [
    "a = a + 0.3\n",
    "print(a.shape)"
   ]
  },
  {
   "cell_type": "markdown",
   "metadata": {},
   "source": [
    "We can subtract b from a  (matching shapes)"
   ]
  },
  {
   "cell_type": "code",
   "execution_count": 24,
   "metadata": {},
   "outputs": [
    {
     "name": "stdout",
     "output_type": "stream",
     "text": [
      "torch.Size([2, 3, 4])\n"
     ]
    }
   ],
   "source": [
    "f = a - b\n",
    "print(f.shape)"
   ]
  },
  {
   "cell_type": "markdown",
   "metadata": {},
   "source": [
    "We can elementwise multiply a with c  (dimensions of c are the same as last dimensions of a)"
   ]
  },
  {
   "cell_type": "code",
   "execution_count": 25,
   "metadata": {},
   "outputs": [
    {
     "name": "stdout",
     "output_type": "stream",
     "text": [
      "torch.Size([2, 3, 4])\n"
     ]
    }
   ],
   "source": [
    "g =  a * c\n",
    "print(g.shape)"
   ]
  },
  {
   "cell_type": "markdown",
   "metadata": {},
   "source": [
    "We can elementwise divide a by d  (last dimension is 1, the rest of the dimensions match)"
   ]
  },
  {
   "cell_type": "code",
   "execution_count": 26,
   "metadata": {},
   "outputs": [
    {
     "name": "stdout",
     "output_type": "stream",
     "text": [
      "torch.Size([2, 3, 4])\n"
     ]
    }
   ],
   "source": [
    "h = a / d\n",
    "print(h.shape)"
   ]
  },
  {
   "cell_type": "markdown",
   "metadata": {},
   "source": [
    "We can elementwise raise a to d  (last dimension of d is 1, the rest of the dimensions match)"
   ]
  },
  {
   "cell_type": "code",
   "execution_count": 27,
   "metadata": {},
   "outputs": [
    {
     "name": "stdout",
     "output_type": "stream",
     "text": [
      "torch.Size([2, 3, 4])\n"
     ]
    }
   ],
   "source": [
    "i = a**d\n",
    "print(i.shape)"
   ]
  },
  {
   "cell_type": "markdown",
   "metadata": {},
   "source": [
    "And we can compare a with any of f, g, h"
   ]
  },
  {
   "cell_type": "code",
   "execution_count": 28,
   "metadata": {},
   "outputs": [
    {
     "name": "stdout",
     "output_type": "stream",
     "text": [
      "torch.Size([2, 3, 4])\n"
     ]
    }
   ],
   "source": [
    "j = a == f\n",
    "print(j.shape)"
   ]
  },
  {
   "cell_type": "markdown",
   "metadata": {},
   "source": [
    ".. but torch complains when we try to do that with e (shapes are incompatible)"
   ]
  },
  {
   "cell_type": "code",
   "execution_count": 29,
   "metadata": {},
   "outputs": [
    {
     "ename": "RuntimeError",
     "evalue": "The size of tensor a (2) must match the size of tensor b (4) at non-singleton dimension 2",
     "output_type": "error",
     "traceback": [
      "\u001b[1;31m---------------------------------------------------------------------------\u001b[0m",
      "\u001b[1;31mRuntimeError\u001b[0m                              Traceback (most recent call last)",
      "\u001b[1;32m<ipython-input-29-a2c3e750b318>\u001b[0m in \u001b[0;36m<module>\u001b[1;34m\u001b[0m\n\u001b[1;32m----> 1\u001b[1;33m \u001b[0me\u001b[0m \u001b[1;33m==\u001b[0m \u001b[0ma\u001b[0m\u001b[1;33m\u001b[0m\u001b[1;33m\u001b[0m\u001b[0m\n\u001b[0m",
      "\u001b[1;32m~\\AppData\\Local\\Programs\\Python\\Python36\\lib\\site-packages\\torch\\tensor.py\u001b[0m in \u001b[0;36mwrapped\u001b[1;34m(*args, **kwargs)\u001b[0m\n\u001b[0;32m     20\u001b[0m     \u001b[1;32mdef\u001b[0m \u001b[0mwrapped\u001b[0m\u001b[1;33m(\u001b[0m\u001b[1;33m*\u001b[0m\u001b[0margs\u001b[0m\u001b[1;33m,\u001b[0m \u001b[1;33m**\u001b[0m\u001b[0mkwargs\u001b[0m\u001b[1;33m)\u001b[0m\u001b[1;33m:\u001b[0m\u001b[1;33m\u001b[0m\u001b[1;33m\u001b[0m\u001b[0m\n\u001b[0;32m     21\u001b[0m         \u001b[1;32mtry\u001b[0m\u001b[1;33m:\u001b[0m\u001b[1;33m\u001b[0m\u001b[1;33m\u001b[0m\u001b[0m\n\u001b[1;32m---> 22\u001b[1;33m             \u001b[1;32mreturn\u001b[0m \u001b[0mf\u001b[0m\u001b[1;33m(\u001b[0m\u001b[1;33m*\u001b[0m\u001b[0margs\u001b[0m\u001b[1;33m,\u001b[0m \u001b[1;33m**\u001b[0m\u001b[0mkwargs\u001b[0m\u001b[1;33m)\u001b[0m\u001b[1;33m\u001b[0m\u001b[1;33m\u001b[0m\u001b[0m\n\u001b[0m\u001b[0;32m     23\u001b[0m         \u001b[1;32mexcept\u001b[0m \u001b[0mTypeError\u001b[0m\u001b[1;33m:\u001b[0m\u001b[1;33m\u001b[0m\u001b[1;33m\u001b[0m\u001b[0m\n\u001b[0;32m     24\u001b[0m             \u001b[1;32mreturn\u001b[0m \u001b[0mNotImplemented\u001b[0m\u001b[1;33m\u001b[0m\u001b[1;33m\u001b[0m\u001b[0m\n",
      "\u001b[1;31mRuntimeError\u001b[0m: The size of tensor a (2) must match the size of tensor b (4) at non-singleton dimension 2"
     ]
    }
   ],
   "source": [
    "e == a"
   ]
  },
  {
   "cell_type": "code",
   "execution_count": 30,
   "metadata": {},
   "outputs": [],
   "source": [
    "del a, b, c, d, e, f, g, h, i, j"
   ]
  },
  {
   "cell_type": "markdown",
   "metadata": {},
   "source": [
    "If in doubt for what any of the element-wise operators actually do, try them out below on some tensors of your own making."
   ]
  },
  {
   "cell_type": "code",
   "execution_count": null,
   "metadata": {},
   "outputs": [],
   "source": []
  },
  {
   "cell_type": "markdown",
   "metadata": {},
   "source": [
    "#### Linear Algebra\n",
    "Tensor algebra of course goes well beyond elementwise operations- matrix multiplication is the bread and butter of machine learning, so we better get familiar with how torch does it."
   ]
  },
  {
   "cell_type": "markdown",
   "metadata": {},
   "source": [
    "As usual, we begin by instantiating our matrices. Matrix multiplication is defined between matrices A and B of shapes [M, N] and [N, O] respectively and yields a matrix C of shape [M, O]. The torch function that implements matrix multiplication is `torch.mm`."
   ]
  },
  {
   "cell_type": "code",
   "execution_count": 31,
   "metadata": {},
   "outputs": [
    {
     "name": "stdout",
     "output_type": "stream",
     "text": [
      "torch.Size([5, 8])\n"
     ]
    }
   ],
   "source": [
    "A = torch.rand([5,3], device=device)\n",
    "B = torch.rand([3,8], device=device)\n",
    "C = torch.mm(A, B)  # or alternatively, C = A @ B\n",
    "print(C.shape)"
   ]
  },
  {
   "cell_type": "markdown",
   "metadata": {},
   "source": [
    "What if we had a large numbers (i.e. a batch) of matrices A to each be multiplied with a matching B? We can use `torch.bmm` for efficient batch matrix multiplication.\n",
    "\n",
    "<div class=\"alert alert-block alert-info\">\n",
    "<b>Tip:</b> Rather than writing slow and ugly `for` loops, employ array programming to write your machine learning code. This will make it much more concise and dramatically more efficient.\n",
    "</div>"
   ]
  },
  {
   "cell_type": "code",
   "execution_count": 32,
   "metadata": {},
   "outputs": [
    {
     "name": "stdout",
     "output_type": "stream",
     "text": [
      "torch.Size([128, 5, 8])\n"
     ]
    }
   ],
   "source": [
    "bA = torch.rand([128, 5, 3], device=device)\n",
    "bB = torch.rand([128, 3, 8], device=device)\n",
    "bC = torch.bmm(bA, bB)  # bC = bA @ bC also works here!\n",
    "print(bC.shape)"
   ]
  },
  {
   "cell_type": "markdown",
   "metadata": {},
   "source": [
    "<div class=\"alert alert-block alert-warning\">\n",
    "<b>Warning:</b>\n",
    "Be careful not to confuse matrix multiplication `A@B` with the [Hadamard product](https://en.wikipedia.org/wiki/Hadamard_product_%28matrices%29) `A*B`\n",
    "\n",
    "</div>"
   ]
  },
  {
   "cell_type": "markdown",
   "metadata": {},
   "source": [
    "#### Shape Manipulation\n",
    "As we have seen, what we can do with tensors is largely dictated by their shapes. Adjusting a tensor's shape to allow for broadcasting or batching is therefore often necessary. The following functions should suffice for the bulk of shape manipulation tasks you might encounter."
   ]
  },
  {
   "cell_type": "markdown",
   "metadata": {},
   "source": [
    "Tensor tansposition is the generalization of matrix transposition. Since there are now more than 2 dimensions, we additionally need to specify the transposed dimensions. Take for instance a tensor of shape [M, N, O]. Converting it to a tensor of shape [N, M, O] requires transposing the first and second dimensions."
   ]
  },
  {
   "cell_type": "code",
   "execution_count": 33,
   "metadata": {},
   "outputs": [
    {
     "name": "stdout",
     "output_type": "stream",
     "text": [
      "torch.Size([5, 128, 3])\n"
     ]
    }
   ],
   "source": [
    "A = torch.rand([128, 5, 3], device=device)\n",
    "A = A.transpose(0, 1)\n",
    "print(A.shape)"
   ]
  },
  {
   "cell_type": "markdown",
   "metadata": {},
   "source": [
    "We may also choose to create a reshaped view of a tensor; for instance we may collapse two or more tensor dimensions into one.."
   ]
  },
  {
   "cell_type": "code",
   "execution_count": 34,
   "metadata": {},
   "outputs": [
    {
     "name": "stdout",
     "output_type": "stream",
     "text": [
      "torch.Size([640, 3])\n"
     ]
    }
   ],
   "source": [
    "A = torch.rand([128, 5, 3], device=device)\n",
    "A_collapsed = A.view(A.shape[0]*A.shape[1], A.shape[-1])\n",
    "print(A_collapsed.shape)"
   ]
  },
  {
   "cell_type": "markdown",
   "metadata": {},
   "source": [
    ".. or expand one dimension into two or more"
   ]
  },
  {
   "cell_type": "code",
   "execution_count": 35,
   "metadata": {},
   "outputs": [
    {
     "name": "stdout",
     "output_type": "stream",
     "text": [
      "torch.Size([128, 5, 3])\n"
     ]
    }
   ],
   "source": [
    "A_expanded = A_collapsed.view(128, 5, 3)\n",
    "print(A_expanded.shape)"
   ]
  },
  {
   "cell_type": "markdown",
   "metadata": {},
   "source": [
    "Let's convince ourselves that the back and forth between dimensions has left our tensor unaffected. First let's elementwise compare A with A_expanded."
   ]
  },
  {
   "cell_type": "code",
   "execution_count": 36,
   "metadata": {},
   "outputs": [
    {
     "name": "stdout",
     "output_type": "stream",
     "text": [
      "tensor([[[True, True, True],\n",
      "         [True, True, True],\n",
      "         [True, True, True],\n",
      "         [True, True, True],\n",
      "         [True, True, True]],\n",
      "\n",
      "        [[True, True, True],\n",
      "         [True, True, True],\n",
      "         [True, True, True],\n",
      "         [True, True, True],\n",
      "         [True, True, True]],\n",
      "\n",
      "        [[True, True, True],\n",
      "         [True, True, True],\n",
      "         [True, True, True],\n",
      "         [True, True, True],\n",
      "         [True, True, True]],\n",
      "\n",
      "        ...,\n",
      "\n",
      "        [[True, True, True],\n",
      "         [True, True, True],\n",
      "         [True, True, True],\n",
      "         [True, True, True],\n",
      "         [True, True, True]],\n",
      "\n",
      "        [[True, True, True],\n",
      "         [True, True, True],\n",
      "         [True, True, True],\n",
      "         [True, True, True],\n",
      "         [True, True, True]],\n",
      "\n",
      "        [[True, True, True],\n",
      "         [True, True, True],\n",
      "         [True, True, True],\n",
      "         [True, True, True],\n",
      "         [True, True, True]]])\n"
     ]
    }
   ],
   "source": [
    "comp = A == A_expanded\n",
    "print(comp)"
   ]
  },
  {
   "cell_type": "markdown",
   "metadata": {},
   "source": [
    "It seems to be okay! But what if there is a zero somewhere in there? Python's `all` and `any` may be used directly on torch bools to help us here."
   ]
  },
  {
   "cell_type": "code",
   "execution_count": 37,
   "metadata": {},
   "outputs": [
    {
     "name": "stdout",
     "output_type": "stream",
     "text": [
      "True\n"
     ]
    }
   ],
   "source": [
    "print(all([all(row) for matrix in comp for row in matrix]))"
   ]
  },
  {
   "cell_type": "markdown",
   "metadata": {},
   "source": [
    "Views are useful, but as the name suggests they only change our view of a tensor. Different views of a tensor have the same number of elements; the view is just changing in what order these are read.\n",
    "\n",
    "For cases where we would like to repeat a tensor across one or more of its axes (actually creating a larger tensor), we can use the function of the same name. Let's consider a tensor of shape [M, N] which we would like to turn into a tensor that repeats itself K times across the first dimension (i.e. a tensor of shape [K $\\cdot$ M, N]."
   ]
  },
  {
   "cell_type": "code",
   "execution_count": 38,
   "metadata": {},
   "outputs": [
    {
     "name": "stdout",
     "output_type": "stream",
     "text": [
      "torch.Size([15, 12])\n"
     ]
    }
   ],
   "source": [
    "A = torch.rand([5, 12], device=device)\n",
    "A_repeat = A.repeat(3, 1)  # note that we are specifying the number of repeats per dimension\n",
    "print(A_repeat.shape)"
   ]
  },
  {
   "cell_type": "markdown",
   "metadata": {},
   "source": [
    "#### Combining Tensors\n",
    "Sometimes we may want to construct a big tensor out of two small ones. There's a few ways to accomplish that, but the most reliable one is through `torch.cat` 🐈 (shorthand for concatenate).\n",
    "\n",
    "Two tensors may be concatenated if they agree on all their dimensions, except for the concatenation dimension."
   ]
  },
  {
   "cell_type": "code",
   "execution_count": 39,
   "metadata": {},
   "outputs": [
    {
     "name": "stdout",
     "output_type": "stream",
     "text": [
      "torch.Size([5, 2])\n"
     ]
    }
   ],
   "source": [
    "A = torch.rand([4,2], device=device)\n",
    "B = torch.rand([1,2], device=device)\n",
    "C = torch.cat((A, B), dim=0)\n",
    "print(C.shape)"
   ]
  },
  {
   "cell_type": "code",
   "execution_count": 40,
   "metadata": {},
   "outputs": [],
   "source": [
    "del A, B, C, comp, A_repeat, A_expanded, A_collapsed, bA, bB, bC"
   ]
  },
  {
   "cell_type": "markdown",
   "metadata": {},
   "source": [
    "---"
   ]
  },
  {
   "cell_type": "markdown",
   "metadata": {},
   "source": [
    "<a id='1d'></a>\n",
    "### Exercises\n",
    "It might be a good idea to take a short break here and recap on what we've seen before moving further. The mini-exercises below should help you test your grasp of this section."
   ]
  },
  {
   "cell_type": "markdown",
   "metadata": {},
   "source": [
    "Construct a tensor $A$ of shape [10, 10] containing random floats, and a tensor $B$ of the same shape where all its elements are equal to $\\pi$."
   ]
  },
  {
   "cell_type": "code",
   "execution_count": 25,
   "metadata": {},
   "outputs": [
    {
     "name": "stdout",
     "output_type": "stream",
     "text": [
      "torch.Size([10, 10])\n"
     ]
    }
   ],
   "source": [
    "from math import pi\n",
    "A = torch.rand([10, 10], device=device)\n",
    "B = torch.tensor([pi], device=device)\n",
    "B = B.repeat(10,10)\n",
    "print(B.shape)"
   ]
  },
  {
   "cell_type": "markdown",
   "metadata": {},
   "source": [
    "Compute $C = AB^T$, the matrix multiplication of $A$ with the transpose of $B$ and $D = A\\cdot B$, their elementwise multiplication."
   ]
  },
  {
   "cell_type": "code",
   "execution_count": 26,
   "metadata": {},
   "outputs": [
    {
     "name": "stdout",
     "output_type": "stream",
     "text": [
      "torch.Size([10, 10])\n",
      "torch.Size([10, 10])\n"
     ]
    }
   ],
   "source": [
    "Bhelp = B.transpose(0,1)\n",
    "C = torch.mm(A,Bhelp)\n",
    "D = A*B\n",
    "print(C.shape)\n",
    "print(D.shape)"
   ]
  },
  {
   "cell_type": "markdown",
   "metadata": {},
   "source": [
    "Try comparing $C$ with $D$. Are they comparable? Are they equal? What is the dtype of their comparison?"
   ]
  },
  {
   "cell_type": "code",
   "execution_count": 27,
   "metadata": {},
   "outputs": [
    {
     "name": "stdout",
     "output_type": "stream",
     "text": [
      "torch.bool\n"
     ]
    }
   ],
   "source": [
    "j = C == D\n",
    "print(j.dtype)"
   ]
  },
  {
   "cell_type": "markdown",
   "metadata": {},
   "source": [
    "Multiply $A$ by 4 to create $F$. Now set all elements of $F$ that are above $\\pi$ to zero.\n",
    "\n",
    "\n",
    "_Hint 1_: You can index a tensor with a boolean tensor of the same dimensionality\n",
    "\n",
    "_Hint 2_: You can set multiple indexed elements to a single value at once"
   ]
  },
  {
   "cell_type": "code",
   "execution_count": 28,
   "metadata": {},
   "outputs": [],
   "source": [
    "F = A * 4\n",
    "F[ F > pi] = 0"
   ]
  },
  {
   "cell_type": "markdown",
   "metadata": {},
   "source": [
    "The incomplete function below implements matrix multiplication with a for loop. Complete the function and call it with your $A$ and $B^T$ matrices as its arguments. The result should be the same as the matrix $C$ you computed before (with room for some numerical inaccuraccy)\n",
    "\n",
    "Note: You can use `torch.sum()` to compute the sum of a tensor (optionally specifying across which dimension)\n",
    "\n",
    "<div class=\"alert alert-block alert-info\">\n",
    "<b>Note:</b> [Type Hints](https://www.python.org/dev/peps/pep-0484/#rationale-and-goals) may be used in python function and variable declarations to give them a type signature. These type signatures are not strict (you can still bypass them), but they can help you organize your code. Type hints of incomplete functions given during assignments will inform you of what we expect your function to accept and return.\n",
    "</div>"
   ]
  },
  {
   "cell_type": "code",
   "execution_count": 29,
   "metadata": {},
   "outputs": [],
   "source": [
    "def my_mm(A: torch.FloatTensor, B: torch.FloatTensor) -> torch.FloatTensor:\n",
    "    assert A.shape[1] == B.shape[0]\n",
    "    assert (len(A.shape) == len(B.shape) == 2)\n",
    "    C = torch.zeros((A.shape[0], B.shape[1]), device=device)\n",
    "    for i in range(A.shape[0]):\n",
    "        for j in range(B.shape[1]):\n",
    "            C[i, j] = 0\n",
    "            for k in range(A.shape[1]):\n",
    "                C[i, j] = C[i, j] +   A[i,k] * B[k,j] \n",
    "            \n",
    "    return C\n",
    "\n",
    "E = my_mm(A, B.transpose(1,0))\n",
    "\n",
    "# make sure the mean absolute difference between the two results is below 0.0001\n",
    "assert torch.sum(torch.abs(E - C))/(E.shape[0]*E.shape[1]) < 1e-4 "
   ]
  },
  {
   "cell_type": "markdown",
   "metadata": {},
   "source": [
    "Create a 2-dimensional tensor $S$ that consists by an instance of $A$ followed by two instances of $B$ followed by an instance of $A$ across its first dimension. What is the shape of $S$?"
   ]
  },
  {
   "cell_type": "code",
   "execution_count": null,
   "metadata": {},
   "outputs": [],
   "source": [
    "S = tensor.FloatTensor((10,10), device=device)\n",
    "for i in range(0,20,4):\n",
    "    for j in range (0,20,4):\n",
    "        S[i,j] = A[i,j]\n",
    "\n",
    "print(S.shape)"
   ]
  },
  {
   "cell_type": "markdown",
   "metadata": {},
   "source": [
    "Reshape $S$ into a tensor of shape [20, 2, 10]. \n",
    "Then transpose this into a tensor of shape [2, 10, 20]."
   ]
  },
  {
   "cell_type": "code",
   "execution_count": null,
   "metadata": {},
   "outputs": [],
   "source": [
    "NotImplemented\n",
    "print(S.shape)"
   ]
  },
  {
   "cell_type": "code",
   "execution_count": null,
   "metadata": {},
   "outputs": [],
   "source": [
    "del A, B, C, D, E, F, S"
   ]
  },
  {
   "cell_type": "markdown",
   "metadata": {},
   "source": [
    "---"
   ]
  },
  {
   "cell_type": "markdown",
   "metadata": {},
   "source": [
    "<a id='2'></a>\n",
    "## 2. Automatic Differentation and Neural Networks\n",
    "We have so far seen some of torch's computational capabilities; its GPU accelaration and multitude of high level functions make it suitable for array processing and vector arithmetic. But torch is more than a faster numpy; its key components, and where most of the magic happens, are in its automatic differentiation mechanics and neural network libraries.\n",
    "\n",
    "<a id='2a'></a>\n",
    "### A. Autograd\n",
    "Each torch tensor carries a flag around with it, `requires_grad`, which establishes whether that tensor requires gradient computation. \n",
    "\n",
    "By default, tensors do not require grad unless specified to. Whenever a tensor that requires grad assumes a role in the construction of another tensor, the new tensor also requires grad.\n",
    "By dynamically tracking dependencies in the evolving computation graph, and utilizing this flag, torch is able to inform itself on which tensors need to be updated by gradient descent, and which do not (naturally, only tensors for which gradients are computed will be updated).\n",
    "\n",
    "Practically, by setting `requires_grad` to `False` we can _freeze_ (parts of) our functions, making them static.\n",
    "\n",
    "Let's see this in action by modeling a simple linear transformation $f(x): Ax$ from $x \\in \\mathbb{R}^5$  to $y \\in \\mathbb{R}^7$:\n",
    "\n",
    "<div class=\"alert alert-block alert-info\">\n",
    "<b>Note:</b> Recall that a matrix of shape [M, N] is a linear map __from__ $\\mathbb{R}^N$ __to__ $\\mathbb{R}^M$.\n",
    "</div>"
   ]
  },
  {
   "cell_type": "code",
   "execution_count": 30,
   "metadata": {},
   "outputs": [],
   "source": [
    "A = torch.rand((7, 5), device=device) \n",
    "\n",
    "def f(x: torch.FloatTensor) -> torch.FloatTensor:\n",
    "    return A@x "
   ]
  },
  {
   "cell_type": "markdown",
   "metadata": {},
   "source": [
    "Let's test our function for some $x$, and check whether the result requires grad."
   ]
  },
  {
   "cell_type": "code",
   "execution_count": 33,
   "metadata": {},
   "outputs": [
    {
     "name": "stdout",
     "output_type": "stream",
     "text": [
      "tensor([0.7466, 0.5731, 0.6899, 0.0654, 0.8290], device='cuda:0')\n",
      "tensor([[0.2670, 0.1935, 0.9366, 0.9696, 0.0073],\n",
      "        [0.9912, 0.6903, 0.9537, 0.0470, 0.2438],\n",
      "        [0.8321, 0.1623, 0.4820, 0.8193, 0.6020],\n",
      "        [0.6333, 0.8161, 0.9988, 0.7000, 0.0125],\n",
      "        [0.0328, 0.3352, 0.0919, 0.0941, 0.7456],\n",
      "        [0.1086, 0.9977, 0.5299, 0.1912, 0.7474],\n",
      "        [0.3029, 0.2348, 0.5291, 0.5706, 0.7996]], device='cuda:0',\n",
      "       requires_grad=True)\n",
      "tensor([1.0259, 1.9989, 1.5995, 1.6857, 0.9043, 1.6505, 1.4260],\n",
      "       device='cuda:0', grad_fn=<MvBackward>)\n",
      "True\n"
     ]
    }
   ],
   "source": [
    "x = torch.rand(5, device=device)\n",
    "print(x)\n",
    "print(A)\n",
    "y = f(x)\n",
    "print(y)\n",
    "print(y.requires_grad)"
   ]
  },
  {
   "cell_type": "markdown",
   "metadata": {},
   "source": [
    "It does not; what if the parameters of our function $f$ were trainable though?"
   ]
  },
  {
   "cell_type": "code",
   "execution_count": 32,
   "metadata": {},
   "outputs": [
    {
     "name": "stdout",
     "output_type": "stream",
     "text": [
      "True\n"
     ]
    }
   ],
   "source": [
    "A.requires_grad = True\n",
    "y = f(x)\n",
    "print(y.requires_grad)"
   ]
  },
  {
   "cell_type": "markdown",
   "metadata": {},
   "source": [
    "The output of our linear transformation is now also trainable!\n"
   ]
  },
  {
   "cell_type": "markdown",
   "metadata": {},
   "source": [
    "---"
   ]
  },
  {
   "cell_type": "markdown",
   "metadata": {},
   "source": [
    "<a id='2b'></a>\n",
    "### Exercises\n",
    "Answer the next questions before you proceed."
   ]
  },
  {
   "cell_type": "markdown",
   "metadata": {},
   "source": [
    "Model an affine transformation $g(x) = Ax + \\beta$ from $x \\in \\mathbb{R}^3$ to $y \\in \\mathbb{R}^{12}$ as the composition of two functions, $f_1(x) = Ax$, $f_2(x) = x + \\beta$, such that $A$ requires grad but $\\beta$ does not.\n",
    "\n",
    "<div class=\"alert alert-block alert-info\">\n",
    "<b>Note:</b> You can use `requires_grad: bool` as an optional argument during tensor construction. Can you guess its default value?\n",
    "</div>"
   ]
  },
  {
   "cell_type": "code",
   "execution_count": 44,
   "metadata": {},
   "outputs": [
    {
     "name": "stdout",
     "output_type": "stream",
     "text": [
      "tensor([1.4845, 0.3563, 1.3433, 1.0183, 0.8621, 1.6203, 0.8442, 0.9204, 0.7722,\n",
      "        0.5829, 1.6791, 0.8313], device='cuda:0', grad_fn=<AddBackward0>)\n",
      "True\n",
      "True\n",
      "True\n",
      "False\n"
     ]
    }
   ],
   "source": [
    "A = torch.rand((12, 3), device=device)\n",
    "A.requires_grad = True\n",
    "\n",
    "beta = torch.rand(12, device=device)\n",
    "beta.requires_grad= False\n",
    "\n",
    "def f_1(x: torch.FloatTensor) -> torch.FloatTensor:\n",
    "    return A@x\n",
    "\n",
    "def f_2(x: torch.FloatTensor) -> torch.FloatTensor:\n",
    "    return x + beta\n",
    "\n",
    "x = torch.rand(3, device=device)\n",
    "\n",
    "w = f_1(x)\n",
    "y = f_2(w)\n",
    "print(y)\n",
    "print(w.requires_grad)\n",
    "print(A.requires_grad)\n",
    "print(y.requires_grad)\n",
    "print(beta.requires_grad)"
   ]
  },
  {
   "cell_type": "markdown",
   "metadata": {},
   "source": [
    "Try to figure out the answers on your own before checking the code.\n",
    "\n",
    "Let's assume $x$ is a fixed data sample, therefore does not require grad (we don't usually want to fit our data, but the function applied on the data!)\n",
    "\n",
    "* If $A$ requires grad but $\\beta$ doesn't, does $w$ require grad? Does $y$?\n",
    "\n",
    "* If $\\beta$ requires grad but $A$ doesn't, does $w$ require grad? Does $y$?\n",
    "\n",
    "What would that mean for $A$ and $\\beta$ during gradient descent?\n",
    "\n",
    "Verify your answers with code."
   ]
  },
  {
   "cell_type": "code",
   "execution_count": 45,
   "metadata": {},
   "outputs": [],
   "source": [
    "#When A requires, w and y require as well"
   ]
  },
  {
   "cell_type": "code",
   "execution_count": 46,
   "metadata": {},
   "outputs": [],
   "source": [
    "#When beta requires, only y require as well"
   ]
  },
  {
   "cell_type": "code",
   "execution_count": 47,
   "metadata": {},
   "outputs": [],
   "source": [
    "del A, beta, x, y, w, f, f_1, f_2"
   ]
  },
  {
   "cell_type": "markdown",
   "metadata": {},
   "source": [
    "---"
   ]
  },
  {
   "cell_type": "markdown",
   "metadata": {},
   "source": [
    "<a id='3'></a>\n",
    "\n",
    "## 3. Neural Networks\n",
    "We are very close to defining our first neural network in torch. Torch includes a powerful neural network library, `torch.nn`, which allows us to create our own custom network flows, use highly optimized off-the-shelf implementations of most standard kinds of networks and compose different networks together.\n",
    "\n",
    "<a id='3a'></a>\n",
    "### A. Custom Neural Networks\n",
    "You have already implemented an affine transformation; a shallow feedforward network is simply such a transformation followed by a non-linearity. For the sake of familiarizing ourselves with custom torch networks, we will go through the process of defining such a network from scratch (you won't normally be doing this, but it's still beneficial to have an idea of what's happening at the low level before proceeding to the high level).\n",
    "\n",
    "The building block for a torch network is the `torch.nn.Module` class; we need to define our networks as objects inheriting that class. If we do so, we only need to implement two functions: `__init__()` and `forward()`. The first is responsible for registering the internal variables of our network, while the second specifies the kind of computation it actually performs.\n",
    "\n",
    "Let's see these in practice; we will define a shallow feedforward network implementing $f(x) = \\sigma(Wx + \\beta)$ from any input dimension to any output dimension, where $\\sigma$ the sigmoid activation."
   ]
  },
  {
   "cell_type": "code",
   "execution_count": 48,
   "metadata": {},
   "outputs": [],
   "source": [
    "class my_first_network(torch.nn.Module):\n",
    "    def __init__(self, in_features: int, out_features: int, device: str) -> None:\n",
    "        super(my_first_network, self).__init__()  # this is important! do not forget to call this\n",
    "        self.device = device\n",
    "        self.W = torch.nn.Parameter(torch.rand(out_features, in_features, device=self.device))\n",
    "        self.beta = torch.nn.Parameter(torch.rand(out_features, device=self.device))\n",
    "        \n",
    "    def forward(self, x: torch.FloatTensor) -> torch.FloatTensor:\n",
    "        return torch.sigmoid(self.W@x + self.beta)"
   ]
  },
  {
   "cell_type": "markdown",
   "metadata": {},
   "source": [
    "<div class=\"alert alert-block alert-info\">\n",
    "<b>Note:</b> Notice the use of torch.nn.Parameter. Wrapping the tensors that are parametric to our network's function in torch.nn.Parameter is crucial as it informs torch that these tensors need to be stored, updated and shared between different function calls.\n",
    "</div>"
   ]
  },
  {
   "cell_type": "markdown",
   "metadata": {},
   "source": [
    "We can now test our first network class by instatiating an actual network and passing a random tensor through it."
   ]
  },
  {
   "cell_type": "code",
   "execution_count": 49,
   "metadata": {},
   "outputs": [
    {
     "name": "stdout",
     "output_type": "stream",
     "text": [
      "tensor([0.7428, 0.8964, 0.8060, 0.7591, 0.8871, 0.7200, 0.7687, 0.7916, 0.8758,\n",
      "        0.7757, 0.7884, 0.7948], device='cuda:0', grad_fn=<SigmoidBackward>)\n"
     ]
    }
   ],
   "source": [
    "f = my_first_network(in_features=3, out_features=12, device=device)\n",
    "x = torch.rand(3, device=device)\n",
    "y = f(x)\n",
    "print(y)"
   ]
  },
  {
   "cell_type": "markdown",
   "metadata": {},
   "source": [
    "<div class=\"alert alert-block alert-info\">\n",
    "<b>Note:</b> Notice that we can use `f(x)` instead of `f.forward(x)` -- `forward` overloads the `__call__` method of the `torch.nn.Module` class, so the above statements are equivalent.\n",
    "</div>"
   ]
  },
  {
   "cell_type": "markdown",
   "metadata": {},
   "source": [
    "Since we have the abstraction for one layer, what's stopping us from instantiating a second network and composing the two into a deep network?"
   ]
  },
  {
   "cell_type": "code",
   "execution_count": 50,
   "metadata": {},
   "outputs": [
    {
     "name": "stdout",
     "output_type": "stream",
     "text": [
      "tensor([0.9945, 0.9795, 0.9939, 0.9913, 0.9940], device='cuda:0',\n",
      "       grad_fn=<SigmoidBackward>)\n"
     ]
    }
   ],
   "source": [
    "class my_first_deep_network(torch.nn.Module):\n",
    "    def __init__(self, in_features: int, intermediate_features: int, out_features: int, device: str) -> None:\n",
    "        super(my_first_deep_network, self).__init__()\n",
    "        self.device = device\n",
    "        self.n_1 = my_first_network(in_features=in_features, out_features=intermediate_features, device=self.device)\n",
    "        self.n_2 = my_first_network(in_features=intermediate_features, out_features=out_features, device=self.device)\n",
    "        \n",
    "    def forward(self, x: torch.FloatTensor) -> torch.FloatTensor:\n",
    "        return self.n_2(self.n_1(x))\n",
    "    \n",
    "g = my_first_deep_network(in_features=3, intermediate_features=12, out_features=5, device=device)\n",
    "y = g(x)\n",
    "print(y)"
   ]
  },
  {
   "cell_type": "markdown",
   "metadata": {},
   "source": [
    "Very easy, right?\n",
    "\n",
    "Except we just did it the hard way! We could have used torch's pre-made `torch.nn.Linear`, the existing abstraction for single feedforward layers, and `torch.nn.Sequential`, the abstraction for composing sequences of networks. `Sequential` is initiated by an iterable of neural modules (not functions!), which are applied in the order specified.\n",
    "\n",
    "How would that have looked like?"
   ]
  },
  {
   "cell_type": "code",
   "execution_count": 51,
   "metadata": {},
   "outputs": [
    {
     "name": "stdout",
     "output_type": "stream",
     "text": [
      "tensor([0.3889, 0.5194, 0.5334, 0.4333, 0.5281], device='cuda:0',\n",
      "       grad_fn=<SigmoidBackward>)\n"
     ]
    }
   ],
   "source": [
    "h = torch.nn.Sequential(\n",
    "    torch.nn.Linear(in_features=3, out_features=12),\n",
    "    torch.nn.Sigmoid(), \n",
    "    torch.nn.Linear(in_features=12, out_features=5), \n",
    "    torch.nn.Sigmoid()  \n",
    ").to(device) \n",
    "\n",
    "y = h(x)\n",
    "print(y)"
   ]
  },
  {
   "cell_type": "markdown",
   "metadata": {},
   "source": [
    "Even easier!\n",
    "\n",
    "<div class=\"alert alert-block alert-info\">\n",
    "<b>Note:</b> When composing networks using the `Sequential` abstraction, you should make sure that each network's expected input shape matches the output shape of the previous network. The device conversion is applied recursively to each sub-module within a module, ensuring that all components of the network live happily in the same device. 🏠 \n",
    "</div>\n",
    "\n",
    "So, why ever define our own networks if torch can do it for us? The answer is that very often (and very soon!) it might be the case that you'll need to write your own, potentially complex, computation flow, which won't necesserily be possible to rephrase as simple layer stacking."
   ]
  },
  {
   "cell_type": "code",
   "execution_count": 52,
   "metadata": {},
   "outputs": [],
   "source": [
    "del x, y, h, g, f, my_first_network, my_first_deep_network"
   ]
  },
  {
   "cell_type": "markdown",
   "metadata": {},
   "source": [
    "<a id='3b'></a>\n",
    "### B.  Loss Functions\n",
    "\n",
    "We have seen how to construct parametric, trainable functions and networks. Requiring a gradient and having a gradient are two different things, however. To obtain the gradients of our trainable parameters we need a loss function. The loss function is an indicator of how far off the network's output (prediction) is from the actual truth. Applying the chain rule, we may differentiate the loss value w.r.t. the model's parameters, populating the tensors' gradients in the process. \n",
    "\n",
    "As with networks, torch provides implementations for the commonly used loss functions but also allows us to write our own (as another neural module!).\n",
    "\n",
    "We will only experiment with an existing loss function, but first we need to construct some data to play with-- we can create a synthetic data set of pairs $(x_i, y_i)$ where $x_i$ is a random number and $y_i = 3 \\cdot x_i - 2$"
   ]
  },
  {
   "cell_type": "code",
   "execution_count": 53,
   "metadata": {},
   "outputs": [
    {
     "name": "stdout",
     "output_type": "stream",
     "text": [
      "tensor([[0.3957],\n",
      "        [0.2658],\n",
      "        [0.0311],\n",
      "        [0.5877],\n",
      "        [0.8172],\n",
      "        [0.3688],\n",
      "        [0.9310],\n",
      "        [0.7511],\n",
      "        [0.2473],\n",
      "        [0.7217],\n",
      "        [0.5132],\n",
      "        [0.1221],\n",
      "        [0.3419],\n",
      "        [0.8615],\n",
      "        [0.1228],\n",
      "        [0.0629],\n",
      "        [0.0188],\n",
      "        [0.6419],\n",
      "        [0.4223],\n",
      "        [0.8445],\n",
      "        [0.8189],\n",
      "        [0.9453],\n",
      "        [0.2106],\n",
      "        [0.1456],\n",
      "        [0.7483],\n",
      "        [0.0614],\n",
      "        [0.8164],\n",
      "        [0.9779],\n",
      "        [0.5206],\n",
      "        [0.1048],\n",
      "        [0.3367],\n",
      "        [0.4530],\n",
      "        [0.7893],\n",
      "        [0.0465],\n",
      "        [0.2206],\n",
      "        [0.3945],\n",
      "        [0.7934],\n",
      "        [0.5674],\n",
      "        [0.3787],\n",
      "        [0.5462],\n",
      "        [0.3472],\n",
      "        [0.8428],\n",
      "        [0.8610],\n",
      "        [0.4310],\n",
      "        [0.0083],\n",
      "        [0.2250],\n",
      "        [0.4395],\n",
      "        [0.1702],\n",
      "        [0.9781],\n",
      "        [0.3166],\n",
      "        [0.5285],\n",
      "        [0.9291],\n",
      "        [0.2809],\n",
      "        [0.0818],\n",
      "        [0.0789],\n",
      "        [0.6792],\n",
      "        [0.4858],\n",
      "        [0.6825],\n",
      "        [0.5763],\n",
      "        [0.8137],\n",
      "        [0.1866],\n",
      "        [0.9767],\n",
      "        [0.8345],\n",
      "        [0.7531],\n",
      "        [0.7060],\n",
      "        [0.6376],\n",
      "        [0.8217],\n",
      "        [0.6610],\n",
      "        [0.5982],\n",
      "        [0.8602],\n",
      "        [0.8677],\n",
      "        [0.3202],\n",
      "        [0.0688],\n",
      "        [0.2740],\n",
      "        [0.6386],\n",
      "        [0.8236],\n",
      "        [0.5889],\n",
      "        [0.4595],\n",
      "        [0.1939],\n",
      "        [0.4370],\n",
      "        [0.0543],\n",
      "        [0.0423],\n",
      "        [0.8437],\n",
      "        [0.8981],\n",
      "        [0.3953],\n",
      "        [0.9696],\n",
      "        [0.6547],\n",
      "        [0.9275],\n",
      "        [0.1486],\n",
      "        [0.4647],\n",
      "        [0.4907],\n",
      "        [0.6159],\n",
      "        [0.7195],\n",
      "        [0.9644],\n",
      "        [0.6720],\n",
      "        [0.7094],\n",
      "        [0.5643],\n",
      "        [0.8015],\n",
      "        [0.9719],\n",
      "        [0.6719]], device='cuda:0')\n",
      "tensor([[-0.8129],\n",
      "        [-1.2026],\n",
      "        [-1.9066],\n",
      "        [-0.2369],\n",
      "        [ 0.4516],\n",
      "        [-0.8937],\n",
      "        [ 0.7931],\n",
      "        [ 0.2532],\n",
      "        [-1.2581],\n",
      "        [ 0.1651],\n",
      "        [-0.4604],\n",
      "        [-1.6336],\n",
      "        [-0.9743],\n",
      "        [ 0.5846],\n",
      "        [-1.6317],\n",
      "        [-1.8112],\n",
      "        [-1.9435],\n",
      "        [-0.0742],\n",
      "        [-0.7331],\n",
      "        [ 0.5334],\n",
      "        [ 0.4568],\n",
      "        [ 0.8358],\n",
      "        [-1.3682],\n",
      "        [-1.5632],\n",
      "        [ 0.2449],\n",
      "        [-1.8157],\n",
      "        [ 0.4492],\n",
      "        [ 0.9336],\n",
      "        [-0.4383],\n",
      "        [-1.6855],\n",
      "        [-0.9898],\n",
      "        [-0.6409],\n",
      "        [ 0.3679],\n",
      "        [-1.8606],\n",
      "        [-1.3383],\n",
      "        [-0.8165],\n",
      "        [ 0.3802],\n",
      "        [-0.2979],\n",
      "        [-0.8638],\n",
      "        [-0.3615],\n",
      "        [-0.9584],\n",
      "        [ 0.5285],\n",
      "        [ 0.5831],\n",
      "        [-0.7070],\n",
      "        [-1.9752],\n",
      "        [-1.3251],\n",
      "        [-0.6816],\n",
      "        [-1.4893],\n",
      "        [ 0.9344],\n",
      "        [-1.0503],\n",
      "        [-0.4145],\n",
      "        [ 0.7873],\n",
      "        [-1.1572],\n",
      "        [-1.7546],\n",
      "        [-1.7634],\n",
      "        [ 0.0376],\n",
      "        [-0.5426],\n",
      "        [ 0.0475],\n",
      "        [-0.2712],\n",
      "        [ 0.4410],\n",
      "        [-1.4402],\n",
      "        [ 0.9301],\n",
      "        [ 0.5035],\n",
      "        [ 0.2592],\n",
      "        [ 0.1179],\n",
      "        [-0.0873],\n",
      "        [ 0.4651],\n",
      "        [-0.0170],\n",
      "        [-0.2055],\n",
      "        [ 0.5807],\n",
      "        [ 0.6031],\n",
      "        [-1.0393],\n",
      "        [-1.7936],\n",
      "        [-1.1780],\n",
      "        [-0.0842],\n",
      "        [ 0.4709],\n",
      "        [-0.2334],\n",
      "        [-0.6214],\n",
      "        [-1.4182],\n",
      "        [-0.6891],\n",
      "        [-1.8370],\n",
      "        [-1.8730],\n",
      "        [ 0.5310],\n",
      "        [ 0.6944],\n",
      "        [-0.8141],\n",
      "        [ 0.9087],\n",
      "        [-0.0360],\n",
      "        [ 0.7825],\n",
      "        [-1.5541],\n",
      "        [-0.6058],\n",
      "        [-0.5278],\n",
      "        [-0.1523],\n",
      "        [ 0.1586],\n",
      "        [ 0.8933],\n",
      "        [ 0.0159],\n",
      "        [ 0.1282],\n",
      "        [-0.3072],\n",
      "        [ 0.4044],\n",
      "        [ 0.9158],\n",
      "        [ 0.0157]], device='cuda:0')\n"
     ]
    }
   ],
   "source": [
    "# a tensor of shape 100, 1, i.e. 100 data points each of dimensionality 1\n",
    "x = torch.rand((100, 1), device=device) \n",
    "y = 3 * x - 2\n",
    "print(x)\n",
    "print(y)"
   ]
  },
  {
   "cell_type": "markdown",
   "metadata": {},
   "source": [
    "Time to employ a linear network.\n",
    "\n",
    "<div class=\"alert alert-block alert-warning\">\n",
    "<b>Warning:</b>\n",
    "Don't mix up input/output dimensionality and number of data samples! \n",
    "</div>"
   ]
  },
  {
   "cell_type": "code",
   "execution_count": 54,
   "metadata": {},
   "outputs": [],
   "source": [
    "f = torch.nn.Linear(in_features=1, out_features=1).to(device)\n",
    "prediction = f(x)"
   ]
  },
  {
   "cell_type": "markdown",
   "metadata": {},
   "source": [
    "Now to define our loss function:"
   ]
  },
  {
   "cell_type": "code",
   "execution_count": 55,
   "metadata": {},
   "outputs": [],
   "source": [
    "loss_fn = torch.nn.MSELoss()"
   ]
  },
  {
   "cell_type": "markdown",
   "metadata": {},
   "source": [
    "Note that each element of our batch (i.e. each of the 100 data samples) has its own MSE w.r.t. to its corresponding output. These unique losses are averaged into a single scalar by the loss function."
   ]
  },
  {
   "cell_type": "code",
   "execution_count": 56,
   "metadata": {},
   "outputs": [
    {
     "name": "stdout",
     "output_type": "stream",
     "text": [
      "tensor(2.5221, device='cuda:0', grad_fn=<MeanBackward0>)\n"
     ]
    }
   ],
   "source": [
    "loss = loss_fn(y, prediction)\n",
    "print(loss)"
   ]
  },
  {
   "cell_type": "markdown",
   "metadata": {},
   "source": [
    "Now that we have computed the loss, we may use it to populate the parameters' gradients via a backward pass. This is automagically done by a simple call of `backward`. 🧙"
   ]
  },
  {
   "cell_type": "code",
   "execution_count": 57,
   "metadata": {},
   "outputs": [],
   "source": [
    "loss.backward()"
   ]
  },
  {
   "cell_type": "markdown",
   "metadata": {},
   "source": [
    "Torch provides a few different loss functions, each for a particular usecase (the task and your output layer's activation function). Note that particular loss functions are already implementing the network's output activation internally. Refer to the [documentation](https://pytorch.org/docs/stable/nn.html#loss-functions) for a detailed overview. In most cases, the cheat-sheet below should contain the answer.\n",
    "\n",
    "<div class=\"alert alert-block alert-info\">\n",
    "<b>Tip:</b> At a loss on which loss to use? Use this cheat-sheet!\n",
    "</div>\n",
    "\n",
    "| Task | Activation | Loss Function |\n",
    "| --- | --- | --- | --- |\n",
    "| K-class Classification | - | CrossEntropyLoss |\n",
    "| K-class Classification | LogSoftmax | NLLLoss |\n",
    "| K-class, Multi-Label Classification | - | BCEWithLogitsLoss |\n",
    "| K-class, Multi-Label Classification | LogSigmoid | BCELoss |\n",
    "| Continuous Regression | - | MSELoss |\n",
    "| Probability Distribution Fitting | LogSoftmax / LogSigmoid | KLDivLoss |"
   ]
  },
  {
   "cell_type": "markdown",
   "metadata": {},
   "source": [
    "<a id='3c'></a>\n",
    "\n",
    "### C.  Optimizers\n",
    "Our struggles are slowly coming to an end. We have made a trainable network, we have computed the loss given the true output, and we have used the loss to populate the parameter gradients. The final thing to do is to use these gradients in order to update the parameter values. \n",
    "This is managed by an `Optimizer`. Gradient based optimizers are the norm for training neural networks; all of them are variants of stochastic gradient descent. Torch provides implementations of the classic optimizers. Regardless of which one of them is your favourite, the process always involves the same steps:\n",
    "1. Initiate the optimizer by letting it know which parameters it is going to be responsible for\n",
    "2. Iterate over your data, and:\n",
    "    2. Compute the loss\n",
    "    3. Back-propagate\n",
    "    4. Perform an optimization step\n",
    "    5. Zero out the gradients (so that they don't accumulate over optimization steps)\n",
    "\n",
    "Let's see them in action on our toy network and synthetic dataset."
   ]
  },
  {
   "cell_type": "code",
   "execution_count": 58,
   "metadata": {},
   "outputs": [
    {
     "name": "stdout",
     "output_type": "stream",
     "text": [
      "Iteration 0 loss: 2.522106409072876\n",
      "Iteration 500 loss: 1.2992430925369263\n",
      "Iteration 1000 loss: 0.9104307293891907\n",
      "Iteration 1500 loss: 0.7218471169471741\n",
      "Iteration 2000 loss: 0.5528079271316528\n",
      "Iteration 2500 loss: 0.39977720379829407\n",
      "Iteration 3000 loss: 0.2713124454021454\n",
      "Iteration 3500 loss: 0.17105457186698914\n",
      "Iteration 4000 loss: 0.09857863187789917\n",
      "Iteration 4500 loss: 0.05068231374025345\n",
      "Iteration 5000 loss: 0.022441687062382698\n"
     ]
    }
   ],
   "source": [
    "opt = torch.optim.Adam(f.parameters())  # initiate optimizer\n",
    "for t in range(5001):  # iterate\n",
    "    prediction = f(x)  # predict \n",
    "    loss = loss_fn(prediction, y)  # compute loss\n",
    "    loss.backward()  # backpropagate\n",
    "    opt.step()  # optimize\n",
    "    opt.zero_grad()  # reset gradients\n",
    "    if t%500 == 0:\n",
    "        print('Iteration {} loss: {}'.format(t, loss.item()))"
   ]
  },
  {
   "cell_type": "markdown",
   "metadata": {},
   "source": [
    "Congratulations! You have trained your first torch network! 🎉\n",
    "\n",
    "You can now probe its inner parameters to see to what extent it figured out the truth."
   ]
  },
  {
   "cell_type": "code",
   "execution_count": 59,
   "metadata": {},
   "outputs": [
    {
     "name": "stdout",
     "output_type": "stream",
     "text": [
      "Parameter containing:\n",
      "tensor([[2.5031]], device='cuda:0', requires_grad=True)\n",
      "Parameter containing:\n",
      "tensor([-1.7022], device='cuda:0', requires_grad=True)\n"
     ]
    }
   ],
   "source": [
    "print(f.weight)\n",
    "print(f.bias)"
   ]
  },
  {
   "cell_type": "markdown",
   "metadata": {},
   "source": [
    "---"
   ]
  },
  {
   "cell_type": "markdown",
   "metadata": {},
   "source": [
    "<a id='3d'></a>\n",
    "\n",
    "### D. Exercises"
   ]
  },
  {
   "cell_type": "markdown",
   "metadata": {},
   "source": [
    "Before we move on to a somewhat more realistic problem, it might be a good idea to get further acquainted with the basics. \n",
    "\n",
    "Let's take a quick look at a few different non-linear activations first."
   ]
  },
  {
   "cell_type": "markdown",
   "metadata": {},
   "source": [
    "Use `arange` to construct a float tensor $x$ of values $0 \\dots 1000$ in ascending order. Then element-wise subtract $500$ and divide by $100$ to get a tensor of values $-5 \\dots 5$."
   ]
  },
  {
   "cell_type": "code",
   "execution_count": 60,
   "metadata": {},
   "outputs": [
    {
     "name": "stdout",
     "output_type": "stream",
     "text": [
      "tensor([-5.0000, -4.9900, -4.9800,  ...,  4.9800,  4.9900,  5.0000])\n"
     ]
    }
   ],
   "source": [
    "x = torch.FloatTensor(np.arange(1001))\n",
    "x = (x-500)/100\n",
    "print(x)"
   ]
  },
  {
   "cell_type": "markdown",
   "metadata": {},
   "source": [
    "Construct the tensors $s = \\sigma(x)$, $t = tanh(x)$ and $r = ReLU(x)$."
   ]
  },
  {
   "cell_type": "code",
   "execution_count": 66,
   "metadata": {},
   "outputs": [],
   "source": [
    "s = torch.sigmoid(x)\n",
    "t = torch.tanh(x)\n",
    "r = torch.relu(x)"
   ]
  },
  {
   "cell_type": "markdown",
   "metadata": {},
   "source": [
    "Now we can convert these to numpy arrays and plot the results. "
   ]
  },
  {
   "cell_type": "code",
   "execution_count": 67,
   "metadata": {},
   "outputs": [
    {
     "data": {
      "text/plain": [
       "<Figure size 640x480 with 1 Axes>"
      ]
     },
     "metadata": {},
     "output_type": "display_data"
    }
   ],
   "source": [
    "from matplotlib import pyplot as plt\n",
    "plt.plot(x.cpu().numpy(),s.cpu().numpy())\n",
    "plt.plot(x.cpu().numpy(),t.cpu().numpy())\n",
    "plt.plot(x.cpu().numpy(),r.cpu().numpy())\n",
    "plt.ylim((-2, 5))\n",
    "plt.legend(['sigmoid', 'tanh', 'relu'])\n",
    "plt.show()"
   ]
  },
  {
   "cell_type": "markdown",
   "metadata": {},
   "source": [
    "Let's practice some more by solving the infamous XOR problem with a small deep network. "
   ]
  },
  {
   "cell_type": "code",
   "execution_count": 68,
   "metadata": {},
   "outputs": [],
   "source": [
    "X = torch.tensor([[0, 0], [0, 1], [1, 0], [1, 1]], device=device, dtype=torch.float)\n",
    "Y = torch.tensor([0, 1, 1, 0], device=device, dtype=torch.float)"
   ]
  },
  {
   "cell_type": "markdown",
   "metadata": {},
   "source": [
    "Use `torch.nn.Sequential` to create a minimal deep network with 1 output dimension and 2 intermediate dimensions. Use ReLU as your intermediate layer activation. \n",
    "\n",
    "Picturing the problem as a classification over two classes, select an appropriate output activation and loss function (refer to the cheat-sheet for aid)."
   ]
  },
  {
   "cell_type": "code",
   "execution_count": 91,
   "metadata": {},
   "outputs": [],
   "source": [
    "f = torch.nn.Sequential(\n",
    "    torch.nn.Linear(in_features=2, out_features=6),\n",
    "    torch.nn.ReLU(), \n",
    "    torch.nn.Linear(in_features=6, out_features=1), \n",
    "    torch.nn.Sigmoid()\n",
    ").to(device)\n",
    "\n",
    "loss_fn = torch.nn.BCELoss()"
   ]
  },
  {
   "cell_type": "markdown",
   "metadata": {},
   "source": [
    "Instantiate an optimizer for your network."
   ]
  },
  {
   "cell_type": "code",
   "execution_count": 92,
   "metadata": {},
   "outputs": [],
   "source": [
    "opt = torch.optim.Adam(f.parameters())"
   ]
  },
  {
   "cell_type": "markdown",
   "metadata": {},
   "source": [
    "Perform 5000 iterations of training, printing the loss as you go."
   ]
  },
  {
   "cell_type": "code",
   "execution_count": 93,
   "metadata": {},
   "outputs": [
    {
     "name": "stdout",
     "output_type": "stream",
     "text": [
      "Iteration 0 loss: 0.7061935067176819\n",
      "Iteration 500 loss: 0.5533934831619263\n",
      "Iteration 1000 loss: 0.3374837040901184\n",
      "Iteration 1500 loss: 0.17145422101020813\n",
      "Iteration 2000 loss: 0.09423571079969406\n",
      "Iteration 2500 loss: 0.05708029866218567\n",
      "Iteration 3000 loss: 0.03721816837787628\n",
      "Iteration 3500 loss: 0.02554154209792614\n",
      "Iteration 4000 loss: 0.018179306760430336\n",
      "Iteration 4500 loss: 0.013290401548147202\n",
      "Iteration 5000 loss: 0.009906154125928879\n"
     ]
    }
   ],
   "source": [
    "for t in range(5001):  # iterate\n",
    "    P = f(X)  # predict \n",
    "    loss = loss_fn(P.view(-1), Y)  # compute loss\n",
    "    loss.backward()  # backpropagate\n",
    "    opt.step()  # optimize\n",
    "    opt.zero_grad()  # reset gradients\n",
    "    if t%500 == 0:\n",
    "        print('Iteration {} loss: {}'.format(t, loss.item()))\n",
    "        "
   ]
  },
  {
   "cell_type": "markdown",
   "metadata": {},
   "source": [
    "You might encounter a shape error here. If you do, don't panic! Read it, understand what the problem is and remember `.view()`.\n",
    "\n",
    "Is the loss improving? If not, try toying around with the intermediate layer's width, the optimizer and its learning rate until your network can solve the problem."
   ]
  },
  {
   "cell_type": "code",
   "execution_count": null,
   "metadata": {},
   "outputs": [],
   "source": []
  },
  {
   "cell_type": "code",
   "execution_count": null,
   "metadata": {},
   "outputs": [],
   "source": [
    "del f, loss_fn, opt, X, Y"
   ]
  },
  {
   "cell_type": "code",
   "execution_count": null,
   "metadata": {},
   "outputs": [],
   "source": []
  },
  {
   "cell_type": "markdown",
   "metadata": {},
   "source": [
    "<a id='3d'></a>\n",
    "## 4. Putting Everything Together\n",
    "Time to hone our newly acquired torch skills! \n",
    "\n",
    "We will now put everything together and write an actual network on a real task. The code below is mostly complete, but some parts here and there are missing. You will be asked to fill those in, so pay attention!"
   ]
  },
  {
   "cell_type": "markdown",
   "metadata": {},
   "source": [
    "First, construct a two-layer network that implements the function $f: \\mathbb{R}^{300} \\to \\mathbb{R}$, such that:\n",
    "\n",
    "$f(x) = W_2(ReLU(W_1x + \\beta_1) + \\beta_2$\n",
    "\n",
    "where:\n",
    "* $W_1 \\in \\mathbb{R}^{100, 300}$\n",
    "* $W_2 \\in \\mathbb{R}^{1, 100}$ \n",
    "* $ \\beta_1 \\in \\mathbb{R}^{100}$ \n",
    "* $\\beta_2 \\in \\mathbb{R}^1$\n",
    "\n",
    "\n",
    "using `torch.nn.Sequential` "
   ]
  },
  {
   "cell_type": "code",
   "execution_count": 95,
   "metadata": {},
   "outputs": [],
   "source": [
    "f = torch.nn.Sequential(\n",
    "    torch.nn.Linear(in_features=300, out_features=100),\n",
    "    torch.nn.ReLU(),\n",
    "    torch.nn.Linear(in_features=100, out_features=1)\n",
    ").to(device)"
   ]
  },
  {
   "cell_type": "markdown",
   "metadata": {},
   "source": [
    "Let's make some use of this network on real data.\n",
    "We are going to open a data dump containing ~5500 baby names. Each name is associated with a label (either 0 for male, or 1 for female), but also a 300-dimensional vector. Representing words as dense vectors is standard practice in NLP; you will learn more about these vectors in your first assignment. For now, we will simply use them in an attempt to teach the network to distinguish between boy and girl babies given their names, while writing some useful code in the process. 👶 🍼"
   ]
  },
  {
   "cell_type": "code",
   "execution_count": 96,
   "metadata": {},
   "outputs": [],
   "source": [
    "import pickle\n",
    "with open('name_data.p', 'rb') as file:\n",
    "    names, vectors, labels = pickle.load(file)"
   ]
  },
  {
   "cell_type": "markdown",
   "metadata": {},
   "source": [
    "What do our data look like? Run the snippet below a couple of times to get an impression."
   ]
  },
  {
   "cell_type": "code",
   "execution_count": 97,
   "metadata": {},
   "outputs": [
    {
     "name": "stdout",
     "output_type": "stream",
     "text": [
      "[['Ginnie' '1']\n",
      " ['Egbert' '0']\n",
      " ['Jody' '1']\n",
      " ['Amory' '0']\n",
      " ['Rori' '1']\n",
      " ['Gibb' '0']\n",
      " ['Davy' '0']\n",
      " ['Ignatius' '0']\n",
      " ['Alister' '0']\n",
      " ['Hayward' '0']\n",
      " ['Lauryn' '1']\n",
      " ['Shell' '0']\n",
      " ['Bria' '1']\n",
      " ['Atalanta' '1']\n",
      " ['Celeste' '1']\n",
      " ['Tim' '0']\n",
      " ['Ajai' '0']\n",
      " ['Linda' '1']\n",
      " ['Thom' '0']\n",
      " ['Calley' '1']]\n"
     ]
    }
   ],
   "source": [
    "print(np.random.permutation(list(zip(names, labels)))[0:20])"
   ]
  },
  {
   "cell_type": "markdown",
   "metadata": {},
   "source": [
    "`vectors` is a list of numpy arrays, and `labels` is a list of integers. We will need to convert them to lists of FloatTensors. Since that is a lot of data, it is unlikely for them to all fit in the GPU, so we will use the RAM as a temporary storage regardless of your currently used device."
   ]
  },
  {
   "cell_type": "code",
   "execution_count": 98,
   "metadata": {},
   "outputs": [],
   "source": [
    "# or alternatively, vectors = [torch.tensor(vector) for vector in vectors]\n",
    "vectors = list(map(lambda x: torch.tensor(x, dtype=torch.float), vectors))\n",
    "labels = list(map(lambda x: torch.tensor(x, dtype=torch.float), labels))  "
   ]
  },
  {
   "cell_type": "markdown",
   "metadata": {},
   "source": [
    "Training on your entire dataset is bad practice; we should split the data into a training set and a validation set. We could either do it manually, or let `sklearn` do it for us."
   ]
  },
  {
   "cell_type": "code",
   "execution_count": 99,
   "metadata": {},
   "outputs": [],
   "source": [
    "from sklearn.model_selection import train_test_split\n",
    "names_train, names_val, X_train, X_val, Y_train, Y_val = train_test_split(names, vectors, labels, test_size=0.2)\n",
    "assert len(X_train) == len(Y_train) == len(names_train)\n",
    "assert len(X_val) == len(Y_val) == len(names_val)"
   ]
  },
  {
   "cell_type": "markdown",
   "metadata": {},
   "source": [
    "Now that we have split the data, we may convert them from a list of tensors onto a big tensor. We could do that by using `view()` to expand the first dimension of each vector and then `cat()` to merge them, but an easier shorthand is `stack()`."
   ]
  },
  {
   "cell_type": "code",
   "execution_count": 100,
   "metadata": {},
   "outputs": [
    {
     "name": "stdout",
     "output_type": "stream",
     "text": [
      "torch.Size([4310, 300])\n",
      "torch.Size([1078, 300])\n",
      "torch.Size([4310])\n",
      "torch.Size([1078])\n"
     ]
    }
   ],
   "source": [
    "X_train = torch.stack(X_train)\n",
    "X_val = torch.stack(X_val)\n",
    "Y_train = torch.tensor(Y_train)\n",
    "Y_val = torch.tensor(Y_val)\n",
    "print(X_train.shape)\n",
    "print(X_val.shape)\n",
    "print(Y_train.shape)\n",
    "print(Y_val.shape)"
   ]
  },
  {
   "cell_type": "markdown",
   "metadata": {},
   "source": [
    "Now that we have our tensors in a sensible format, we may construct a Dataset (a storage unit for our data) and a DataLoader (a wrapper responsible for shuffling the data, iterating through them and converting them to batches)."
   ]
  },
  {
   "cell_type": "code",
   "execution_count": 101,
   "metadata": {},
   "outputs": [],
   "source": [
    "from torch.utils.data import TensorDataset\n",
    "from torch.utils.data import DataLoader\n",
    "\n",
    "train_dataset = TensorDataset(X_train, Y_train)\n",
    "train_dataloader = DataLoader(train_dataset, batch_size=32, shuffle=True)\n",
    "val_dataset = TensorDataset(X_val, Y_val)\n",
    "val_dataloader = DataLoader(val_dataset, batch_size=32, shuffle=False)  # no need to shuffle the validation data"
   ]
  },
  {
   "cell_type": "markdown",
   "metadata": {},
   "source": [
    "Let's begin and immediately stop an iteration through the training dataloader to get an idea of what's going on."
   ]
  },
  {
   "cell_type": "code",
   "execution_count": 102,
   "metadata": {},
   "outputs": [
    {
     "name": "stdout",
     "output_type": "stream",
     "text": [
      "torch.Size([32, 300])\n",
      "torch.float32\n",
      "torch.Size([32])\n",
      "torch.float32\n"
     ]
    }
   ],
   "source": [
    "for batch_x, batch_y in train_dataloader:\n",
    "    print(batch_x.shape)\n",
    "    print(batch_x.dtype)\n",
    "    print(batch_y.shape)\n",
    "    print(batch_y.dtype)\n",
    "    break\n"
   ]
  },
  {
   "cell_type": "markdown",
   "metadata": {},
   "source": [
    "Looking good; batch_x is 32 300-dimensional vectors, and batch_y is 32 values."
   ]
  },
  {
   "cell_type": "markdown",
   "metadata": {},
   "source": [
    "`train_batch()` is a function that takes a network, a batch of inputs, a batch of outputs, a loss function and an optimizer, runs the training routine on that batch and returns the loss value of that batch"
   ]
  },
  {
   "cell_type": "code",
   "execution_count": 104,
   "metadata": {},
   "outputs": [],
   "source": [
    "from typing import Callable, List\n",
    "\n",
    "# Callable is typed as Callable[[i1, i2, ..], o]\n",
    "# where i1, i2, .. the input types and o the output type\n",
    "\n",
    "def train_batch(network: torch.nn.Module,  # the network\n",
    "                X_batch: torch.FloatTensor,  # the X batch\n",
    "                Y_batch: torch.LongTensor,   # the Y batch\n",
    "                # a function from a FloatTensor (prediction) and a FloatTensor (Y) to a FloatTensor (the loss)\n",
    "                loss_fn: Callable[[torch.FloatTensor, torch.FloatTensor], torch.FloatTensor],  \n",
    "                # the optimizer\n",
    "                optimizer: torch.optim.Optimizer) -> float:\n",
    "    \n",
    "    network.train()\n",
    "    \n",
    "    prediction_batch = network(X_batch)  # forward pass\n",
    "    batch_loss = loss_fn(prediction_batch.view(-1), Y_batch)  # loss calculation\n",
    "    batch_loss.backward()  # gradient computation\n",
    "    optimizer.step()  # back-propagation\n",
    "    optimizer.zero_grad()  # gradient reset\n",
    "    return batch_loss.item()"
   ]
  },
  {
   "cell_type": "markdown",
   "metadata": {},
   "source": [
    "<div class=\"alert alert-block alert-info\">\n",
    "<b>Note:</b> Several network components (e.g. dropout units) may behave differently during training and validation. We use `.train()` to inform the network that we are in training time.\n",
    "</div>\n",
    "\n",
    "<div class=\"alert alert-block alert-warning\">\n",
    "<b>Warning:</b>\n",
    "The `batch_loss` tensor requires gradient (why?). It is important to return its contents with `.item()` rather than the tensor itself, otherwise we risk memory leak because of the accumulated gradient tracking.\n",
    "</div>"
   ]
  },
  {
   "cell_type": "markdown",
   "metadata": {},
   "source": [
    "`train_epoch()` is a function that takes a network, the training dataloader, a loss function and an optimizer. It iterates through the dataloader and is responsible for calling `train_batch()`."
   ]
  },
  {
   "cell_type": "code",
   "execution_count": 105,
   "metadata": {},
   "outputs": [],
   "source": [
    "def train_epoch(network: torch.nn.Module, \n",
    "                # a list of data points x\n",
    "                dataloader: DataLoader,\n",
    "                loss_fn: Callable[[torch.FloatTensor, torch.FloatTensor], torch.FloatTensor],\n",
    "                optimizer: torch.optim.Optimizer, \n",
    "                device: str) -> float:\n",
    "    \n",
    "    loss = 0.\n",
    "    \n",
    "    for i, (x_batch, y_batch) in enumerate(dataloader):\n",
    "        x_batch = x_batch.to(device)  # convert back to your chosen device\n",
    "        y_batch = y_batch.to(device)\n",
    "        loss += train_batch(network=network, X_batch=x_batch, Y_batch=y_batch, loss_fn=loss_fn, optimizer=optimizer)\n",
    "    loss /= (i+1) # divide loss by number of batches for consistency \n",
    "        \n",
    "    return loss"
   ]
  },
  {
   "cell_type": "markdown",
   "metadata": {},
   "source": [
    "Your turn; fill in the missing parts of `eval_batch()`, a function that takes a network, a batch of inputs, a batch of outputs and a loss function, and computes the loss of that batch."
   ]
  },
  {
   "cell_type": "code",
   "execution_count": 106,
   "metadata": {},
   "outputs": [],
   "source": [
    "def eval_batch(network: torch.nn.Module,  # the network\n",
    "                X_batch: torch.FloatTensor,  # the X batch\n",
    "                Y_batch: torch.LongTensor,   # the Y batch\n",
    "                loss_fn: Callable[[torch.FloatTensor, torch.LongTensor], torch.FloatTensor]) -> float:\n",
    "    \n",
    "    network.eval()\n",
    "     \n",
    "    with torch.no_grad():\n",
    "        predictions = network(X_batch)\n",
    "        batch_loss = loss_fn(predictions.view(-1), Y_batch)\n",
    "    \n",
    "    return batch_loss"
   ]
  },
  {
   "cell_type": "markdown",
   "metadata": {},
   "source": [
    "<div class=\"alert alert-block alert-info\">\n",
    "<b>Note:</b> Notice that we use `.eval()` to inform the network we are in validation time. Notice also the `no_grad()` context; this is telling torch that it doesn't need to bother with gradient tracking momentarily, providing a significant speed-up for the current session.\n",
    "</div>"
   ]
  },
  {
   "cell_type": "markdown",
   "metadata": {},
   "source": [
    "`eval_epoch()` is basically the same as `train_epoch()`, aside the lack of an optimizer. Fill it in."
   ]
  },
  {
   "cell_type": "code",
   "execution_count": 108,
   "metadata": {},
   "outputs": [],
   "source": [
    "def eval_epoch(network: torch.nn.Module, \n",
    "                # a list of data points x\n",
    "                dataloader: DataLoader,\n",
    "                loss_fn: Callable[[torch.FloatTensor, torch.LongTensor], torch.FloatTensor],\n",
    "                device: str) -> float:\n",
    "    loss = 0.\n",
    "    \n",
    "    for i, (x_batch, y_batch) in enumerate(dataloader):\n",
    "        x_batch = x_batch.to(device)  # convert back to your chosen device\n",
    "        y_batch = y_batch.to(device)\n",
    "        loss += eval_batch(network=network, X_batch=x_batch, Y_batch=y_batch, loss_fn=loss_fn)\n",
    "    loss /= (i+1) # divide loss by number of batches for consistency \n",
    "        \n",
    "    return loss"
   ]
  },
  {
   "cell_type": "markdown",
   "metadata": {},
   "source": [
    "We can also make an auxilliary `infer_batch()` function; the forward pass gives us the final layer's output, but we might just be interested in the predicted class rather than its probability."
   ]
  },
  {
   "cell_type": "code",
   "execution_count": 109,
   "metadata": {},
   "outputs": [],
   "source": [
    "def infer_batch(network: torch.nn.Module, \n",
    "                batch_x: torch.FloatTensor, \n",
    "                device: str) -> torch.LongTensor:\n",
    "    \n",
    "    # first apply the sigmoid activation (since it is implemented by the loss function rather than the network itself)\n",
    "    sigm = torch.sigmoid(network(batch_x.to(device)))\n",
    "    # round the result\n",
    "    classes = torch.round(sigm)\n",
    "    # detach it from the computation graph (we no longer care about its gradients)\n",
    "    classes = classes.detach()\n",
    "    # cast the result into a LongTensor and return\n",
    "    return classes.to(torch.long)"
   ]
  },
  {
   "cell_type": "markdown",
   "metadata": {},
   "source": [
    "One last thing before we can finally train; we need a loss function and an optimizer. "
   ]
  },
  {
   "cell_type": "code",
   "execution_count": 110,
   "metadata": {},
   "outputs": [],
   "source": [
    "opt = torch.optim.Adam(f.parameters(), lr=1e-05)\n",
    "loss_fn = torch.nn.BCEWithLogitsLoss(reduction='mean')"
   ]
  },
  {
   "cell_type": "code",
   "execution_count": 111,
   "metadata": {},
   "outputs": [
    {
     "name": "stdout",
     "output_type": "stream",
     "text": [
      "Epoch 0\n",
      " Training Loss: 0.6906288712112992\n",
      " Validation Loss: 0.6861839890480042\n",
      "Epoch 1\n",
      " Training Loss: 0.6825348783422399\n",
      " Validation Loss: 0.6785979866981506\n",
      "Epoch 2\n",
      " Training Loss: 0.6746365847410979\n",
      " Validation Loss: 0.6709866523742676\n",
      "Epoch 3\n",
      " Training Loss: 0.6667409857114156\n",
      " Validation Loss: 0.6632896065711975\n",
      "Epoch 4\n",
      " Training Loss: 0.6586409944075126\n",
      " Validation Loss: 0.6552553176879883\n",
      "Epoch 5\n",
      " Training Loss: 0.6502973406403153\n",
      " Validation Loss: 0.6467849612236023\n",
      "Epoch 6\n",
      " Training Loss: 0.6415498088907312\n",
      " Validation Loss: 0.6379213929176331\n",
      "Epoch 7\n",
      " Training Loss: 0.6322257770432367\n",
      " Validation Loss: 0.6286790370941162\n",
      "Epoch 8\n",
      " Training Loss: 0.6227335307333205\n",
      " Validation Loss: 0.6189370155334473\n",
      "Epoch 9\n",
      " Training Loss: 0.6126720132651152\n",
      " Validation Loss: 0.6089605689048767\n",
      "Epoch 10\n",
      " Training Loss: 0.6024195816781786\n",
      " Validation Loss: 0.598700225353241\n",
      "Epoch 11\n",
      " Training Loss: 0.5920051570291872\n",
      " Validation Loss: 0.5882482528686523\n",
      "Epoch 12\n",
      " Training Loss: 0.5815419356028239\n",
      " Validation Loss: 0.57770836353302\n",
      "Epoch 13\n",
      " Training Loss: 0.5710317395351551\n",
      " Validation Loss: 0.5672026872634888\n",
      "Epoch 14\n",
      " Training Loss: 0.5605389758392617\n",
      " Validation Loss: 0.5568189024925232\n",
      "Epoch 15\n",
      " Training Loss: 0.5502869076199002\n",
      " Validation Loss: 0.5465455651283264\n",
      "Epoch 16\n",
      " Training Loss: 0.540110628693192\n",
      " Validation Loss: 0.5365410447120667\n",
      "Epoch 17\n",
      " Training Loss: 0.5303381736631747\n",
      " Validation Loss: 0.5267841815948486\n",
      "Epoch 18\n",
      " Training Loss: 0.5207277211878035\n",
      " Validation Loss: 0.5174174904823303\n",
      "Epoch 19\n",
      " Training Loss: 0.5116474164856805\n",
      " Validation Loss: 0.5083795785903931\n",
      "Epoch 20\n",
      " Training Loss: 0.5031633297602336\n",
      " Validation Loss: 0.49957534670829773\n",
      "Epoch 21\n",
      " Training Loss: 0.4946255286534627\n",
      " Validation Loss: 0.4912935793399811\n",
      "Epoch 22\n",
      " Training Loss: 0.48661805744524356\n",
      " Validation Loss: 0.4834281802177429\n",
      "Epoch 23\n",
      " Training Loss: 0.4789181073506673\n",
      " Validation Loss: 0.47591203451156616\n",
      "Epoch 24\n",
      " Training Loss: 0.4716313271610825\n",
      " Validation Loss: 0.46876800060272217\n",
      "Epoch 25\n",
      " Training Loss: 0.4651005720650708\n",
      " Validation Loss: 0.4620291590690613\n",
      "Epoch 26\n",
      " Training Loss: 0.4583672051076536\n",
      " Validation Loss: 0.455686092376709\n",
      "Epoch 27\n",
      " Training Loss: 0.4524233937263489\n",
      " Validation Loss: 0.4496886432170868\n",
      "Epoch 28\n",
      " Training Loss: 0.4464051012639646\n",
      " Validation Loss: 0.4441179931163788\n",
      "Epoch 29\n",
      " Training Loss: 0.4415369329629121\n",
      " Validation Loss: 0.4388006627559662\n",
      "Epoch 30\n",
      " Training Loss: 0.43618007169829476\n",
      " Validation Loss: 0.4338948428630829\n",
      "Epoch 31\n",
      " Training Loss: 0.43166121730098017\n",
      " Validation Loss: 0.429178386926651\n",
      "Epoch 32\n",
      " Training Loss: 0.42670342833907515\n",
      " Validation Loss: 0.4248567223548889\n",
      "Epoch 33\n",
      " Training Loss: 0.4230998637499633\n",
      " Validation Loss: 0.4207436442375183\n",
      "Epoch 34\n",
      " Training Loss: 0.41893146258813363\n",
      " Validation Loss: 0.4169359505176544\n",
      "Epoch 35\n",
      " Training Loss: 0.41555408040682473\n",
      " Validation Loss: 0.4133368134498596\n",
      "Epoch 36\n",
      " Training Loss: 0.41211082306173114\n",
      " Validation Loss: 0.41006800532341003\n",
      "Epoch 37\n",
      " Training Loss: 0.40849962521482397\n",
      " Validation Loss: 0.4068555533885956\n",
      "Epoch 38\n",
      " Training Loss: 0.4056115625081239\n",
      " Validation Loss: 0.40392518043518066\n",
      "Epoch 39\n",
      " Training Loss: 0.40245324627116874\n",
      " Validation Loss: 0.40120962262153625\n",
      "Epoch 40\n",
      " Training Loss: 0.3997831379925763\n",
      " Validation Loss: 0.39858224987983704\n",
      "Epoch 41\n",
      " Training Loss: 0.39730788314784016\n",
      " Validation Loss: 0.39615342020988464\n",
      "Epoch 42\n",
      " Training Loss: 0.3946953287831059\n",
      " Validation Loss: 0.39388754963874817\n",
      "Epoch 43\n",
      " Training Loss: 0.3925259961022271\n",
      " Validation Loss: 0.3916619122028351\n",
      "Epoch 44\n",
      " Training Loss: 0.39035892530723854\n",
      " Validation Loss: 0.3896797001361847\n",
      "Epoch 45\n",
      " Training Loss: 0.3883806698852115\n",
      " Validation Loss: 0.3877836763858795\n",
      "Epoch 46\n",
      " Training Loss: 0.38626255282649286\n",
      " Validation Loss: 0.3860063850879669\n",
      "Epoch 47\n",
      " Training Loss: 0.3849346668631942\n",
      " Validation Loss: 0.38433101773262024\n",
      "Epoch 48\n",
      " Training Loss: 0.3830932032178949\n",
      " Validation Loss: 0.38280174136161804\n",
      "Epoch 49\n",
      " Training Loss: 0.3809678664913884\n",
      " Validation Loss: 0.3813381493091583\n",
      "Epoch 50\n",
      " Training Loss: 0.3796225676933924\n",
      " Validation Loss: 0.3799930810928345\n",
      "Epoch 51\n",
      " Training Loss: 0.3783437306130374\n",
      " Validation Loss: 0.3786628246307373\n",
      "Epoch 52\n",
      " Training Loss: 0.3768838858162915\n",
      " Validation Loss: 0.3775100111961365\n",
      "Epoch 53\n",
      " Training Loss: 0.37537863353888196\n",
      " Validation Loss: 0.37634536623954773\n",
      "Epoch 54\n",
      " Training Loss: 0.37388109973183387\n",
      " Validation Loss: 0.3752920925617218\n",
      "Epoch 55\n",
      " Training Loss: 0.3730711928120366\n",
      " Validation Loss: 0.37425485253334045\n",
      "Epoch 56\n",
      " Training Loss: 0.3717917291102586\n",
      " Validation Loss: 0.37335020303726196\n",
      "Epoch 57\n",
      " Training Loss: 0.370461536888723\n",
      " Validation Loss: 0.3724547028541565\n",
      "Epoch 58\n",
      " Training Loss: 0.369921612739563\n",
      " Validation Loss: 0.37160757184028625\n",
      "Epoch 59\n",
      " Training Loss: 0.3692864886036626\n",
      " Validation Loss: 0.37082719802856445\n",
      "Epoch 60\n",
      " Training Loss: 0.3678665461363616\n",
      " Validation Loss: 0.37006711959838867\n",
      "Epoch 61\n",
      " Training Loss: 0.36733346989861243\n",
      " Validation Loss: 0.3693760633468628\n",
      "Epoch 62\n",
      " Training Loss: 0.36586225717156023\n",
      " Validation Loss: 0.368732750415802\n",
      "Epoch 63\n",
      " Training Loss: 0.3648108631372452\n",
      " Validation Loss: 0.3681091368198395\n",
      "Epoch 64\n",
      " Training Loss: 0.3641532905675747\n",
      " Validation Loss: 0.3675186038017273\n",
      "Epoch 65\n",
      " Training Loss: 0.36336504673516307\n",
      " Validation Loss: 0.3669514060020447\n",
      "Epoch 66\n",
      " Training Loss: 0.36262528112641085\n",
      " Validation Loss: 0.36642986536026\n",
      "Epoch 67\n",
      " Training Loss: 0.3617556345683557\n",
      " Validation Loss: 0.3659326136112213\n",
      "Epoch 68\n",
      " Training Loss: 0.3611419196482058\n",
      " Validation Loss: 0.3654648959636688\n",
      "Epoch 69\n",
      " Training Loss: 0.3603643037654735\n",
      " Validation Loss: 0.36500757932662964\n",
      "Epoch 70\n",
      " Training Loss: 0.35971430694615397\n",
      " Validation Loss: 0.3645817041397095\n",
      "Epoch 71\n",
      " Training Loss: 0.3591253075334761\n",
      " Validation Loss: 0.36418765783309937\n",
      "Epoch 72\n",
      " Training Loss: 0.358358480864101\n",
      " Validation Loss: 0.3638330399990082\n",
      "Epoch 73\n",
      " Training Loss: 0.35783330930603874\n",
      " Validation Loss: 0.36347970366477966\n",
      "Epoch 74\n",
      " Training Loss: 0.3572420331063094\n",
      " Validation Loss: 0.3631330132484436\n",
      "Epoch 75\n",
      " Training Loss: 0.3566143386893802\n",
      " Validation Loss: 0.36277616024017334\n",
      "Epoch 76\n",
      " Training Loss: 0.35672225753466286\n",
      " Validation Loss: 0.36249175667762756\n",
      "Epoch 77\n",
      " Training Loss: 0.3557307395670149\n",
      " Validation Loss: 0.3622216284275055\n",
      "Epoch 78\n",
      " Training Loss: 0.354880412419637\n",
      " Validation Loss: 0.36195850372314453\n",
      "Epoch 79\n",
      " Training Loss: 0.35464246758708245\n",
      " Validation Loss: 0.36165523529052734\n",
      "Epoch 80\n",
      " Training Loss: 0.3541064533922407\n",
      " Validation Loss: 0.3614368736743927\n",
      "Epoch 81\n",
      " Training Loss: 0.35372278922133976\n",
      " Validation Loss: 0.36123016476631165\n",
      "Epoch 82\n",
      " Training Loss: 0.35326605991080956\n",
      " Validation Loss: 0.3609798848628998\n",
      "Epoch 83\n",
      " Training Loss: 0.3526349291757301\n",
      " Validation Loss: 0.3607669174671173\n",
      "Epoch 84\n",
      " Training Loss: 0.35245570959868255\n",
      " Validation Loss: 0.36056646704673767\n",
      "Epoch 85\n",
      " Training Loss: 0.3513319824580793\n",
      " Validation Loss: 0.3604098856449127\n",
      "Epoch 86\n",
      " Training Loss: 0.3516908983389537\n",
      " Validation Loss: 0.3602018356323242\n",
      "Epoch 87\n",
      " Training Loss: 0.3504270744544488\n",
      " Validation Loss: 0.36003750562667847\n",
      "Epoch 88\n",
      " Training Loss: 0.3504030884416015\n",
      " Validation Loss: 0.3598672151565552\n",
      "Epoch 89\n",
      " Training Loss: 0.34997738908838344\n",
      " Validation Loss: 0.3597224950790405\n",
      "Epoch 90\n",
      " Training Loss: 0.3495515400612796\n",
      " Validation Loss: 0.35956019163131714\n",
      "Epoch 91\n",
      " Training Loss: 0.3486442180695357\n",
      " Validation Loss: 0.35944485664367676\n",
      "Epoch 92\n",
      " Training Loss: 0.3490103440152274\n",
      " Validation Loss: 0.35927894711494446\n",
      "Epoch 93\n",
      " Training Loss: 0.34863407126179446\n",
      " Validation Loss: 0.3591844141483307\n",
      "Epoch 94\n",
      " Training Loss: 0.3479280310648459\n",
      " Validation Loss: 0.35906532406806946\n",
      "Epoch 95\n",
      " Training Loss: 0.34756100840038723\n",
      " Validation Loss: 0.3589679002761841\n",
      "Epoch 96\n",
      " Training Loss: 0.34729910239025397\n",
      " Validation Loss: 0.3588743209838867\n",
      "Epoch 97\n",
      " Training Loss: 0.34695734447903104\n",
      " Validation Loss: 0.35874903202056885\n",
      "Epoch 98\n",
      " Training Loss: 0.3470396825560817\n",
      " Validation Loss: 0.3586409389972687\n",
      "Epoch 99\n",
      " Training Loss: 0.34584766416637985\n",
      " Validation Loss: 0.35856693983078003\n"
     ]
    }
   ],
   "source": [
    "NUM_EPOCHS = 100\n",
    "\n",
    "train_losses = []\n",
    "val_losses = []\n",
    "\n",
    "for t in range(NUM_EPOCHS):\n",
    "    train_loss = train_epoch(f, train_dataloader, optimizer=opt, loss_fn=loss_fn, device=device)\n",
    "    val_loss = eval_epoch(f, val_dataloader, loss_fn, device=device)\n",
    "    \n",
    "    print('Epoch {}'.format(t))\n",
    "    print(' Training Loss: {}'.format(train_loss))\n",
    "    print(' Validation Loss: {}'.format(val_loss))\n",
    "    \n",
    "    train_losses.append(train_loss)\n",
    "    val_losses.append(val_loss)"
   ]
  },
  {
   "cell_type": "markdown",
   "metadata": {},
   "source": [
    "We may plot the losses to get an idea of what the learning curve looks like."
   ]
  },
  {
   "cell_type": "code",
   "execution_count": 112,
   "metadata": {},
   "outputs": [
    {
     "data": {
      "image/png": "[encoded data removed]",
      "text/plain": [
       "<Figure size 432x288 with 1 Axes>"
      ]
     },
     "metadata": {
      "needs_background": "light"
     },
     "output_type": "display_data"
    }
   ],
   "source": [
    "from matplotlib import pyplot as plt\n",
    "plt.plot(train_losses)\n",
    "plt.plot(val_losses)\n",
    "plt.legend(['Training', 'Validation'])\n",
    "plt.show()"
   ]
  },
  {
   "cell_type": "markdown",
   "metadata": {},
   "source": [
    "And let's bring this to an end by labeling all of our validation data and printing the results."
   ]
  },
  {
   "cell_type": "code",
   "execution_count": 113,
   "metadata": {},
   "outputs": [
    {
     "name": "stdout",
     "output_type": "stream",
     "text": [
      "[('Nicole', [1]),\n",
      " ('Lewis', [0]),\n",
      " ('Urban', [0]),\n",
      " ('Hedy', [1]),\n",
      " ('Prue', [1]),\n",
      " ('Maxy', [1]),\n",
      " ('Hillary', [1]),\n",
      " ('Baldwin', [0]),\n",
      " ('Van', [0]),\n",
      " ('Cordelia', [1]),\n",
      " ('Terry', [0]),\n",
      " ('Higgins', [0]),\n",
      " ('Clem', [0]),\n",
      " ('Marianne', [1]),\n",
      " ('Hy', [0]),\n",
      " ('Kara-Lynn', [1]),\n",
      " ('Giorgi', [0]),\n",
      " ('Marry', [1]),\n",
      " ('Darell', [0]),\n",
      " ('Xerxes', [0]),\n",
      " ('Ramon', [0]),\n",
      " ('Coretta', [0]),\n",
      " ('Leslie', [0]),\n",
      " ('Wojciech', [0]),\n",
      " ('Caresse', [1]),\n",
      " ('Mattias', [0]),\n",
      " ('Brina', [1]),\n",
      " ('Eba', [1]),\n",
      " ('Upton', [0]),\n",
      " ('Megan', [1]),\n",
      " ('Paulina', [1]),\n",
      " ('Woody', [0]),\n",
      " ('Darrin', [0]),\n",
      " ('Norman', [0]),\n",
      " ('Torey', [0]),\n",
      " ('Ellwood', [0]),\n",
      " ('Jermaine', [0]),\n",
      " ('Niels', [0]),\n",
      " ('Madelaine', [1]),\n",
      " ('Erin', [1]),\n",
      " ('Mervin', [0]),\n",
      " ('Goose', [1]),\n",
      " ('Heathcliff', [1]),\n",
      " ('Torrance', [0]),\n",
      " ('Mag', [1]),\n",
      " ('Deane', [0]),\n",
      " ('Alysa', [1]),\n",
      " ('Blair', [0]),\n",
      " ('Karmen', [1]),\n",
      " ('Isaac', [0]),\n",
      " ('Solange', [1]),\n",
      " ('Hilary', [1]),\n",
      " ('Teressa', [1]),\n",
      " ('Menard', [0]),\n",
      " ('Melody', [1]),\n",
      " ('Harri', [1]),\n",
      " ('Rahal', [0]),\n",
      " ('Krystle', [1]),\n",
      " ('Gabrielle', [1]),\n",
      " ('Janna', [1]),\n",
      " ('Kat', [1]),\n",
      " ('Tricia', [1]),\n",
      " ('Jules', [1]),\n",
      " ('Regan', [0]),\n",
      " ('Rey', [0]),\n",
      " ('Jessika', [1]),\n",
      " ('Virge', [1]),\n",
      " ('Olaf', [0]),\n",
      " ('Oprah', [1]),\n",
      " ('Dom', [0]),\n",
      " ('Homer', [0]),\n",
      " ('Patty', [1]),\n",
      " ('Midge', [1]),\n",
      " ('Caren', [1]),\n",
      " ('Red', [1]),\n",
      " ('Esmerelda', [1]),\n",
      " ('Fred', [0]),\n",
      " ('Spud', [0]),\n",
      " ('Ora', [1]),\n",
      " ('Thad', [0]),\n",
      " ('Parke', [0]),\n",
      " ('Sabra', [1]),\n",
      " ('David', [0]),\n",
      " ('Jed', [0]),\n",
      " ('Clair', [1]),\n",
      " ('Socrates', [0]),\n",
      " ('Olga', [1]),\n",
      " ('Giancarlo', [0]),\n",
      " ('Rutledge', [0]),\n",
      " ('Bridgett', [1]),\n",
      " ('Rosanne', [1]),\n",
      " ('Arleen', [1]),\n",
      " ('Sheryl', [1]),\n",
      " ('Georgie', [1]),\n",
      " ('Leonardo', [0]),\n",
      " ('Phaedra', [1]),\n",
      " ('Venkat', [0]),\n",
      " ('Ashley', [1]),\n",
      " ('Dolly', [1]),\n",
      " ('Bell', [0]),\n",
      " ('Isaak', [0]),\n",
      " ('Lacy', [1]),\n",
      " ('Remington', [0]),\n",
      " ('Elli', [1]),\n",
      " ('Wilmette', [0]),\n",
      " ('Chad', [0]),\n",
      " ('Guido', [0]),\n",
      " ('Lay', [0]),\n",
      " ('Erina', [1]),\n",
      " ('Sheena', [1]),\n",
      " ('Ransom', [0]),\n",
      " ('Aurelia', [1]),\n",
      " ('Rollin', [0]),\n",
      " ('Hallam', [0]),\n",
      " ('Merle', [1]),\n",
      " ('Gloriana', [1]),\n",
      " ('Dione', [1]),\n",
      " ('Isabella', [1]),\n",
      " ('Jeanette', [1]),\n",
      " ('Robbie', [0]),\n",
      " ('Bria', [1]),\n",
      " ('Blondie', [1]),\n",
      " ('Delilah', [1]),\n",
      " ('Tate', [0]),\n",
      " ('Holly-Anne', [1]),\n",
      " ('Yancy', [0]),\n",
      " ('Skip', [0]),\n",
      " ('Leone', [1]),\n",
      " ('Kaia', [1]),\n",
      " ('Jermaine', [0]),\n",
      " ('Helen', [1]),\n",
      " ('Darren', [0]),\n",
      " ('Quintana', [1]),\n",
      " ('Goldi', [1]),\n",
      " ('Artie', [0]),\n",
      " ('Jaquith', [0]),\n",
      " ('Carsten', [0]),\n",
      " ('Bing', [1]),\n",
      " ('Nesta', [0]),\n",
      " ('Nevins', [0]),\n",
      " ('Wallace', [0]),\n",
      " ('Philippine', [1]),\n",
      " ('Gwyneth', [1]),\n",
      " ('Aidan', [0]),\n",
      " ('Templeton', [0]),\n",
      " ('Patience', [1]),\n",
      " ('Harvard', [0]),\n",
      " ('Marita', [1]),\n",
      " ('Valentia', [1]),\n",
      " ('Hatti', [1]),\n",
      " ('Elinor', [1]),\n",
      " ('Loreen', [1]),\n",
      " ('Dawson', [0]),\n",
      " ('Haydon', [0]),\n",
      " ('Ozzy', [0]),\n",
      " ('Adora', [1]),\n",
      " ('Casie', [1]),\n",
      " ('Sarge', [0]),\n",
      " ('Giordano', [0]),\n",
      " ('Carson', [0]),\n",
      " ('Larry', [0]),\n",
      " ('Jan', [0]),\n",
      " ('Jehu', [0]),\n",
      " ('Olivier', [0]),\n",
      " ('Calhoun', [0]),\n",
      " ('Vally', [1]),\n",
      " ('Dane', [0]),\n",
      " ('Leonora', [1]),\n",
      " ('Hedda', [1]),\n",
      " ('Keri', [1]),\n",
      " ('Raf', [0]),\n",
      " ('Gibb', [0]),\n",
      " ('Eddy', [0]),\n",
      " ('Meredith', [1]),\n",
      " ('Malory', [0]),\n",
      " ('Valentin', [0]),\n",
      " ('Moise', [0]),\n",
      " ('Vicki', [1]),\n",
      " ('Orel', [1]),\n",
      " ('Jill', [1]),\n",
      " ('Jess', [1]),\n",
      " ('Edwin', [0]),\n",
      " ('Pauli', [1]),\n",
      " ('Lauren', [1]),\n",
      " ('Ethel', [1]),\n",
      " ('Winnie', [1]),\n",
      " ('Juliana', [1]),\n",
      " ('Mab', [1]),\n",
      " ('Shane', [0]),\n",
      " ('Raleigh', [0]),\n",
      " ('Sascha', [0]),\n",
      " ('Billie', [1]),\n",
      " ('Ricca', [1]),\n",
      " ('Brooks', [0]),\n",
      " ('Nollie', [0]),\n",
      " ('Stinky', [1]),\n",
      " ('Esmeralda', [1]),\n",
      " ('Worthy', [0]),\n",
      " ('Jodie', [1]),\n",
      " ('Hebert', [0]),\n",
      " ('Constantia', [1]),\n",
      " ('Shelia', [1]),\n",
      " ('Nana', [1]),\n",
      " ('Vijay', [0]),\n",
      " ('Reza', [0]),\n",
      " ('Nitin', [0]),\n",
      " ('Camile', [1]),\n",
      " ('Klee', [0]),\n",
      " ('Melissa', [1]),\n",
      " ('Sharona', [1]),\n",
      " ('Lenna', [1]),\n",
      " ('Cele', [1]),\n",
      " ('Deb', [1]),\n",
      " ('Milo', [0]),\n",
      " ('Braden', [0]),\n",
      " ('Kristi', [1]),\n",
      " ('Doug', [0]),\n",
      " ('Win', [1]),\n",
      " ('Ronda', [1]),\n",
      " ('Matilde', [1]),\n",
      " ('Rex', [0]),\n",
      " ('Kenyon', [0]),\n",
      " ('Ariel', [1]),\n",
      " ('Gwyn', [1]),\n",
      " ('Dasha', [1]),\n",
      " ('Angelique', [1]),\n",
      " ('Camellia', [1]),\n",
      " ('Tami', [1]),\n",
      " ('Inigo', [0]),\n",
      " ('Shalom', [1]),\n",
      " ('Gilli', [1]),\n",
      " ('Carlee', [1]),\n",
      " ('Rocky', [0]),\n",
      " ('Gayle', [1]),\n",
      " ('Dodi', [1]),\n",
      " ('Shanna', [1]),\n",
      " ('Iago', [0]),\n",
      " ('Hilda', [1]),\n",
      " ('Ollie', [0]),\n",
      " ('Aleks', [0]),\n",
      " ('Mikael', [0]),\n",
      " ('Kerri', [1]),\n",
      " ('Bayard', [0]),\n",
      " ('Damara', [1]),\n",
      " ('Gabbi', [1]),\n",
      " ('Twyla', [1]),\n",
      " ('Yale', [0]),\n",
      " ('Rabi', [1]),\n",
      " ('Zachariah', [0]),\n",
      " ('Harrison', [0]),\n",
      " ('Zach', [0]),\n",
      " ('Jessamyn', [1]),\n",
      " ('Lanny', [1]),\n",
      " ('Sutton', [0]),\n",
      " ('Bogart', [0]),\n",
      " ('Estrella', [1]),\n",
      " ('Clo', [1]),\n",
      " ('Suzette', [1]),\n",
      " ('Anna-Maria', [1]),\n",
      " ('Marley', [0]),\n",
      " ('Carmon', [1]),\n",
      " ('Darrel', [0]),\n",
      " ('Brendan', [0]),\n",
      " ('Olive', [1]),\n",
      " ('Mariska', [1]),\n",
      " ('Cristopher', [0]),\n",
      " ('Octavius', [0]),\n",
      " ('Silvia', [1]),\n",
      " ('Gavin', [0]),\n",
      " ('Paulo', [0]),\n",
      " ('Ambrosia', [1]),\n",
      " ('Tony', [0]),\n",
      " ('Pascal', [0]),\n",
      " ('Alanna', [1]),\n",
      " ('Pattie', [1]),\n",
      " ('Gill', [0]),\n",
      " ('Isabelle', [1]),\n",
      " ('Johnny', [0]),\n",
      " ('Ricard', [0]),\n",
      " ('Alexis', [1]),\n",
      " ('Marie', [1]),\n",
      " ('Dyan', [1]),\n",
      " ('Jayme', [1]),\n",
      " ('Zeke', [0]),\n",
      " ('Silvester', [0]),\n",
      " ('Kiley', [0]),\n",
      " ('Cornelia', [1]),\n",
      " ('Oswald', [0]),\n",
      " ('Richard', [0]),\n",
      " ('Shelby', [1]),\n",
      " ('Tommy', [0]),\n",
      " ('Ikey', [0]),\n",
      " ('Keeley', [1]),\n",
      " ('Minnie', [1]),\n",
      " ('Mohan', [0]),\n",
      " ('Ricky', [0]),\n",
      " ('Lizzie', [1]),\n",
      " ('Amara', [1]),\n",
      " ('Gera', [1]),\n",
      " ('Arline', [1]),\n",
      " ('Kirstin', [1]),\n",
      " ('Lucio', [0]),\n",
      " ('Edita', [1]),\n",
      " ('Bradley', [0]),\n",
      " ('Fergus', [0]),\n",
      " ('Ruddy', [0]),\n",
      " ('Angelico', [1]),\n",
      " ('Bridget', [1]),\n",
      " ('Liz', [1]),\n",
      " ('Hedi', [1]),\n",
      " ('Herrick', [0]),\n",
      " ('Ruby', [1]),\n",
      " ('Lanna', [1]),\n",
      " ('Yule', [1]),\n",
      " ('Sharon', [1]),\n",
      " ('Nathaniel', [0]),\n",
      " ('Candice', [1]),\n",
      " ('Ferguson', [0]),\n",
      " ('Dell', [1]),\n",
      " ('Ame', [0]),\n",
      " ('Adolph', [0]),\n",
      " ('Cathrine', [1]),\n",
      " ('Saxe', [0]),\n",
      " ('Freddie', [0]),\n",
      " ('Thom', [0]),\n",
      " ('Tia', [1]),\n",
      " ('Marys', [0]),\n",
      " ('Mame', [1]),\n",
      " ('Maryjane', [1]),\n",
      " ('Julie', [1]),\n",
      " ('Moselle', [1]),\n",
      " ('Lazarus', [0]),\n",
      " ('Christi', [1]),\n",
      " ('Lyndsay', [1]),\n",
      " ('Verna', [1]),\n",
      " ('Tammie', [1]),\n",
      " ('Zalman', [0]),\n",
      " ('Nicolas', [0]),\n",
      " ('Rosa', [1]),\n",
      " ('Talbot', [0]),\n",
      " ('Josie', [1]),\n",
      " ('Bennie', [0]),\n",
      " ('Row', [1]),\n",
      " ('Desmond', [0]),\n",
      " ('Ferne', [1]),\n",
      " ('Mirella', [1]),\n",
      " ('Patsy', [0]),\n",
      " ('Birdie', [1]),\n",
      " ('Adolfo', [0]),\n",
      " ('Nance', [0]),\n",
      " ('Vaughan', [0]),\n",
      " ('Marlee', [1]),\n",
      " ('Garfield', [0]),\n",
      " ('Matias', [0]),\n",
      " ('Celle', [1]),\n",
      " ('Wat', [0]),\n",
      " ('Lorna', [1]),\n",
      " ('Jewell', [1]),\n",
      " ('Chicky', [1]),\n",
      " ('Omar', [0]),\n",
      " ('Laverne', [1]),\n",
      " ('Noreen', [1]),\n",
      " ('Samuel', [0]),\n",
      " ('Kerstin', [1]),\n",
      " ('Hartwell', [0]),\n",
      " ('Hurley', [0]),\n",
      " ('Kurt', [0]),\n",
      " ('Danika', [1]),\n",
      " ('Arel', [1]),\n",
      " ('Del', [1]),\n",
      " ('Chadd', [0]),\n",
      " ('Graeme', [0]),\n",
      " ('Forester', [0]),\n",
      " ('Sydney', [0]),\n",
      " ('Ahmad', [0]),\n",
      " ('Tracee', [1]),\n",
      " ('Illa', [1]),\n",
      " ('Fiona', [1]),\n",
      " ('Tamera', [1]),\n",
      " ('Townie', [1]),\n",
      " ('Nidia', [1]),\n",
      " ('Kristy', [1]),\n",
      " ('Vinod', [0]),\n",
      " ('Gui', [0]),\n",
      " ('Aloysius', [0]),\n",
      " ('Annie', [1]),\n",
      " ('Dianna', [1]),\n",
      " ('Tisha', [1]),\n",
      " ('Oriana', [1]),\n",
      " ('Jean-Marc', [0]),\n",
      " ('Randa', [1]),\n",
      " ('Gypsy', [1]),\n",
      " ('Mignon', [1]),\n",
      " ('Calvin', [0]),\n",
      " ('Hew', [0]),\n",
      " ('Berna', [1]),\n",
      " ('Adam', [0]),\n",
      " ('Ag', [0]),\n",
      " ('Gertie', [1]),\n",
      " ('Betsey', [1]),\n",
      " ('Morgan', [0]),\n",
      " ('Morton', [0]),\n",
      " ('Fawn', [1]),\n",
      " ('Annalisa', [1]),\n",
      " ('Rodolfo', [0]),\n",
      " ('Selig', [0]),\n",
      " ('Harley', [0]),\n",
      " ('Emile', [0]),\n",
      " ('Betsy', [1]),\n",
      " ('Seymour', [0]),\n",
      " ('Rollins', [0]),\n",
      " ('Loni', [1]),\n",
      " ('Gilligan', [1]),\n",
      " ('Teddy', [1]),\n",
      " ('Leora', [1]),\n",
      " ('Pam', [1]),\n",
      " ('Stefan', [0]),\n",
      " ('Rory', [0]),\n",
      " ('Worth', [0]),\n",
      " ('Chris', [0]),\n",
      " ('Roberta', [1]),\n",
      " ('Queenie', [1]),\n",
      " ('Juanita', [1]),\n",
      " ('Lorain', [0]),\n",
      " ('Patrice', [0]),\n",
      " ('Danette', [1]),\n",
      " ('Anna-Diana', [1]),\n",
      " ('Carlisle', [0]),\n",
      " ('Beaufort', [0]),\n",
      " ('Lilly', [1]),\n",
      " ('Wolfgang', [0]),\n",
      " ('Deva', [1]),\n",
      " ('Tomas', [0]),\n",
      " ('Benn', [0]),\n",
      " ('Kira', [1]),\n",
      " ('Marcelo', [0]),\n",
      " ('Michel', [0]),\n",
      " ('Murphy', [0]),\n",
      " ('Sarita', [1]),\n",
      " ('Conroy', [0]),\n",
      " ('Welch', [0]),\n",
      " ('Chloe', [1]),\n",
      " ('Leesa', [1]),\n",
      " ('Raven', [1]),\n",
      " ('Sullivan', [0]),\n",
      " ('Shaw', [0]),\n",
      " ('Belle', [1]),\n",
      " ('Marietta', [0]),\n",
      " ('Patty', [1]),\n",
      " ('Brittany', [1]),\n",
      " ('Kim', [1]),\n",
      " ('Carri', [1]),\n",
      " ('Taber', [0]),\n",
      " ('Eustace', [0]),\n",
      " ('Candie', [1]),\n",
      " ('Lennie', [0]),\n",
      " ('Karie', [1]),\n",
      " ('Jerry', [0]),\n",
      " ('Art', [0]),\n",
      " ('Whitney', [0]),\n",
      " ('Ania', [1]),\n",
      " ('Redford', [0]),\n",
      " ('Dino', [0]),\n",
      " ('Ginger', [1]),\n",
      " ('Lainey', [1]),\n",
      " ('Jori', [1]),\n",
      " ('Rosamond', [0]),\n",
      " ('Zorro', [0]),\n",
      " ('Kathryn', [1]),\n",
      " ('Becka', [1]),\n",
      " ('Catie', [1]),\n",
      " ('Martha', [1]),\n",
      " ('Dana', [0]),\n",
      " ('Phil', [0]),\n",
      " ('Beowulf', [0]),\n",
      " ('Cassie', [1]),\n",
      " ('Keenan', [0]),\n",
      " ('Hertha', [1]),\n",
      " ('Lon', [0]),\n",
      " ('Foster', [1]),\n",
      " ('Hester', [0]),\n",
      " ('Stig', [0]),\n",
      " ('Enoch', [0]),\n",
      " ('Bobbie', [1]),\n",
      " ('Christen', [1]),\n",
      " ('Mellie', [1]),\n",
      " ('Sergeant', [0]),\n",
      " ('Beckie', [1]),\n",
      " ('Nicol', [0]),\n",
      " ('Gabriel', [0]),\n",
      " ('Adelina', [1]),\n",
      " ('Wendell', [0]),\n",
      " ('Bela', [1]),\n",
      " ('Janice', [1]),\n",
      " ('Toby', [0]),\n",
      " ('Irwin', [0]),\n",
      " ('Hilde', [1]),\n",
      " ('Hillery', [1]),\n",
      " ('Osgood', [0]),\n",
      " ('Johny', [0]),\n",
      " ('Abby', [1]),\n",
      " ('Leela', [1]),\n",
      " ('Arnie', [0]),\n",
      " ('Jesus', [0]),\n",
      " ('Con', [1]),\n",
      " ('Fernando', [0]),\n",
      " ('Irving', [0]),\n",
      " ('Jameson', [1]),\n",
      " ('Shamus', [0]),\n",
      " ('Cesar', [0]),\n",
      " ('Asia', [1]),\n",
      " ('Roxie', [1]),\n",
      " ('Cecily', [1]),\n",
      " ('Rustin', [0]),\n",
      " ('Derby', [0]),\n",
      " ('Delphine', [1]),\n",
      " ('Carlo', [0]),\n",
      " ('Lucinda', [1]),\n",
      " ('Christophe', [0]),\n",
      " ('Bernardo', [0]),\n",
      " ('Hymie', [0]),\n",
      " ('Trever', [1]),\n",
      " ('Audre', [1]),\n",
      " ('Ravi', [0]),\n",
      " ('Evette', [1]),\n",
      " ('Jana', [1]),\n",
      " ('Shaina', [1]),\n",
      " ('Garcon', [0]),\n",
      " ('Mohammed', [0]),\n",
      " ('Thelma', [1]),\n",
      " ('Rinaldo', [0]),\n",
      " ('Marie-Ann', [1]),\n",
      " ('Myles', [0]),\n",
      " ('Benjamin', [0]),\n",
      " ('Krissy', [1]),\n",
      " ('Minni', [1]),\n",
      " ('Mohammad', [0]),\n",
      " ('Hestia', [1]),\n",
      " ('Charley', [0]),\n",
      " ('Noah', [0]),\n",
      " ('Geoff', [0]),\n",
      " ('Duke', [0]),\n",
      " ('Fayre', [1]),\n",
      " ('Trey', [0]),\n",
      " ('Weider', [0]),\n",
      " ('Tye', [0]),\n",
      " ('Jacki', [1]),\n",
      " ('Shawna', [1]),\n",
      " ('Giacomo', [1]),\n",
      " ('Tull', [0]),\n",
      " ('Marianna', [1]),\n",
      " ('Luciana', [1]),\n",
      " ('Vern', [0]),\n",
      " ('Manuel', [0]),\n",
      " ('Barby', [1]),\n",
      " ('Shea', [1]),\n",
      " ('Shelley', [1]),\n",
      " ('Glenda', [1]),\n",
      " ('Alyson', [1]),\n",
      " ('Murdock', [0]),\n",
      " ('Grazia', [1]),\n",
      " ('Irina', [1]),\n",
      " ('Samara', [1]),\n",
      " ('Etty', [1]),\n",
      " ('Thane', [0]),\n",
      " ('Lory', [1]),\n",
      " ('Devi', [1]),\n",
      " ('Ilene', [1]),\n",
      " ('Rahul', [0]),\n",
      " ('Silvan', [1]),\n",
      " ('Kalvin', [0]),\n",
      " ('Brady', [0]),\n",
      " ('Gav', [1]),\n",
      " ('Gusta', [1]),\n",
      " ('Gillian', [1]),\n",
      " ('Faustina', [1]),\n",
      " ('Nigel', [0]),\n",
      " ('Rickey', [0]),\n",
      " ('Norah', [1]),\n",
      " ('Kirk', [0]),\n",
      " ('Perceval', [0]),\n",
      " ('Claudine', [1]),\n",
      " ('Lorenzo', [0]),\n",
      " ('Stuart', [0]),\n",
      " ('Cappella', [1]),\n",
      " ('Vittoria', [1]),\n",
      " ('Rory', [0]),\n",
      " ('Betti', [1]),\n",
      " ('Inez', [1]),\n",
      " ('Donovan', [0]),\n",
      " ('Peirce', [0]),\n",
      " ('Yardley', [0]),\n",
      " ('Gretta', [1]),\n",
      " ('Gonzalo', [0]),\n",
      " ('Lamb', [1]),\n",
      " ('Rubi', [1]),\n",
      " ('Gilles', [0]),\n",
      " ('Winnah', [1]),\n",
      " ('Mellisa', [1]),\n",
      " ('Logan', [0]),\n",
      " ('Rita', [1]),\n",
      " ('Alicia', [1]),\n",
      " ('Verge', [1]),\n",
      " ('Marisa', [1]),\n",
      " ('Ansel', [0]),\n",
      " ('Sylvia', [1]),\n",
      " ('Regina', [1]),\n",
      " ('Ede', [0]),\n",
      " ('Tucky', [1]),\n",
      " ('Celine', [1]),\n",
      " ('Aviva', [1]),\n",
      " ('Hamish', [0]),\n",
      " ('Del', [1]),\n",
      " ('Ada', [1]),\n",
      " ('Siouxie', [1]),\n",
      " ('Micheline', [1]),\n",
      " ('Ewart', [0]),\n",
      " ('Acacia', [1]),\n",
      " ('Traci', [1]),\n",
      " ('Loren', [1]),\n",
      " ('Delia', [1]),\n",
      " ('Gerda', [1]),\n",
      " ('Dionysus', [0]),\n",
      " ('Stacia', [1]),\n",
      " ('Andrew', [0]),\n",
      " ('Kiersten', [1]),\n",
      " ('Randi', [1]),\n",
      " ('Lacey', [1]),\n",
      " ('Donal', [0]),\n",
      " ('Cathleen', [1]),\n",
      " ('Clay', [0]),\n",
      " ('Fonz', [0]),\n",
      " ('Zita', [1]),\n",
      " ('Tann', [1]),\n",
      " ('Eva', [1]),\n",
      " ('Sean', [0]),\n",
      " ('Brenna', [1]),\n",
      " ('Allan', [0]),\n",
      " ('Lolita', [1]),\n",
      " ('Lockwood', [0]),\n",
      " ('Letty', [1]),\n",
      " ('Barri', [1]),\n",
      " ('Lenee', [1]),\n",
      " ('Alida', [1]),\n",
      " ('Kalman', [1]),\n",
      " ('Shanon', [1]),\n",
      " ('Leanne', [1]),\n",
      " ('Imogene', [0]),\n",
      " ('Fianna', [1]),\n",
      " ('Sam', [0]),\n",
      " ('Avis', [0]),\n",
      " ('Amie', [1]),\n",
      " ('Dalton', [0]),\n",
      " ('Crissy', [1]),\n",
      " ('Aile', [1]),\n",
      " ('Lianne', [1]),\n",
      " ('Che', [1]),\n",
      " ('Berti', [0]),\n",
      " ('Shirl', [1]),\n",
      " ('Purcell', [0]),\n",
      " ('Celestia', [1]),\n",
      " ('Arlene', [1]),\n",
      " ('Caty', [1]),\n",
      " ('Pearle', [1]),\n",
      " ('Yigal', [0]),\n",
      " ('Luciano', [1]),\n",
      " ('Lemmie', [1]),\n",
      " ('Rachele', [1]),\n",
      " ('Janina', [1]),\n",
      " ('Napoleon', [0]),\n",
      " ('Sophie', [1]),\n",
      " ('Sax', [0]),\n",
      " ('Hanson', [0]),\n",
      " ('Poppy', [1]),\n",
      " ('Osmond', [1]),\n",
      " ('Carina', [1]),\n",
      " ('Hunter', [0]),\n",
      " ('Dew', [1]),\n",
      " ('Dillon', [0]),\n",
      " ('Charles', [0]),\n",
      " ('Kenna', [1]),\n",
      " ('Demetri', [0]),\n",
      " ('Harmonia', [1]),\n",
      " ('Miriam', [1]),\n",
      " ('Collete', [1]),\n",
      " ('Jeanna', [1]),\n",
      " ('Cleopatra', [1]),\n",
      " ('Minna', [1]),\n",
      " ('Windy', [1]),\n",
      " ('Kaiser', [0]),\n",
      " ('Witty', [0]),\n",
      " ('Shadow', [1]),\n",
      " ('Gaven', [0]),\n",
      " ('Donny', [0]),\n",
      " ('Cori', [1]),\n",
      " ('Golda', [1]),\n",
      " ('Ventura', [0]),\n",
      " ('Tobin', [0]),\n",
      " ('Cody', [0]),\n",
      " ('Aime', [1]),\n",
      " ('Celeste', [1]),\n",
      " ('Zonda', [1]),\n",
      " ('Letta', [1]),\n",
      " ('Tilda', [1]),\n",
      " ('Tarah', [1]),\n",
      " ('Jimmie', [0]),\n",
      " ('Heather', [1]),\n",
      " ('Cecil', [0]),\n",
      " ('Lucky', [1]),\n",
      " ('Katy', [1]),\n",
      " ('Wain', [0]),\n",
      " ('Jazmin', [1]),\n",
      " ('Lizbeth', [1]),\n",
      " ('Sonny', [0]),\n",
      " ('Norton', [0]),\n",
      " ('Krystal', [1]),\n",
      " ('Carry', [1]),\n",
      " ('Madison', [1]),\n",
      " ('Orly', [1]),\n",
      " ('Merrick', [0]),\n",
      " ('Morse', [0]),\n",
      " ('Cletus', [0]),\n",
      " ('Brandy', [1]),\n",
      " ('Prentiss', [0]),\n",
      " ('Henrik', [0]),\n",
      " ('Todd', [0]),\n",
      " ('Andres', [0]),\n",
      " ('Petrina', [1]),\n",
      " ('Joana', [1]),\n",
      " ('Vivi', [1]),\n",
      " ('Trista', [1]),\n",
      " ('Arielle', [1]),\n",
      " ('Margaret', [1]),\n",
      " ('Rice', [1]),\n",
      " ('Antony', [0]),\n",
      " ('Georgy', [1]),\n",
      " ('Rodge', [0]),\n",
      " ('Athena', [1]),\n",
      " ('Basia', [1]),\n",
      " ('Meier', [0]),\n",
      " ('Katusha', [1]),\n",
      " ('Stafford', [0]),\n",
      " ('Miran', [1]),\n",
      " ('Elna', [1]),\n",
      " ('Manon', [1]),\n",
      " ('Jackson', [0]),\n",
      " ('Raphael', [0]),\n",
      " ('Marnie', [1]),\n",
      " ('Michele', [1]),\n",
      " ('Bessie', [1]),\n",
      " ('Terra', [1]),\n",
      " ('Peyton', [0]),\n",
      " ('Leland', [0]),\n",
      " ('Sybil', [1]),\n",
      " ('Savina', [1]),\n",
      " ('Bobina', [0]),\n",
      " ('Kass', [0]),\n",
      " ('Sonya', [1]),\n",
      " ('Juana', [1]),\n",
      " ('Noel', [0]),\n",
      " ('Torrey', [0]),\n",
      " ('Domenico', [0]),\n",
      " ('Mahmud', [0]),\n",
      " ('Emmett', [0]),\n",
      " ('Meggie', [1]),\n",
      " ('Shina', [1]),\n",
      " ('Francis', [0]),\n",
      " ('Charis', [1]),\n",
      " ('Mort', [0]),\n",
      " ('Wye', [0]),\n",
      " ('Risa', [1]),\n",
      " ('Levin', [0]),\n",
      " ('Andi', [1]),\n",
      " ('Craig', [0]),\n",
      " ('Marv', [0]),\n",
      " ('Leann', [1]),\n",
      " ('Britta', [1]),\n",
      " ('Hadley', [0]),\n",
      " ('Judie', [1]),\n",
      " ('Berta', [1]),\n",
      " ('Chalmers', [0]),\n",
      " ('Randolph', [0]),\n",
      " ('Nanny', [1]),\n",
      " ('Jarvis', [0]),\n",
      " ('Brad', [0]),\n",
      " ('Schroeder', [0]),\n",
      " ('Auguste', [0]),\n",
      " ('Jule', [1]),\n",
      " ('Nova', [1]),\n",
      " ('Barney', [0]),\n",
      " ('Pietro', [0]),\n",
      " ('Tommie', [0]),\n",
      " ('Emilie', [1]),\n",
      " ('Lane', [0]),\n",
      " ('Kala', [1]),\n",
      " ('Brett', [0]),\n",
      " ('Liam', [0]),\n",
      " ('Levy', [0]),\n",
      " ('Avraham', [0]),\n",
      " ('Kitty', [1]),\n",
      " ('Gregg', [0]),\n",
      " ('Juliane', [1]),\n",
      " ('Mitra', [1]),\n",
      " ('Manish', [1]),\n",
      " ('Nikkie', [1]),\n",
      " ('Nathanael', [0]),\n",
      " ('Alene', [1]),\n",
      " ('Warren', [0]),\n",
      " ('Dean', [0]),\n",
      " ('Christofer', [0]),\n",
      " ('Ann', [1]),\n",
      " ('Ophelia', [1]),\n",
      " ('Una', [1]),\n",
      " ('Violetta', [1]),\n",
      " ('Reynold', [0]),\n",
      " ('Reed', [0]),\n",
      " ('Gianna', [1]),\n",
      " ('Corey', [0]),\n",
      " ('Barbi', [1]),\n",
      " ('Jane', [1]),\n",
      " ('Bharat', [0]),\n",
      " ('Chet', [0]),\n",
      " ('Fyodor', [0]),\n",
      " ('Hudson', [0]),\n",
      " ('Allegra', [1]),\n",
      " ('Dale', [0]),\n",
      " ('Clara', [1]),\n",
      " ('Tove', [1]),\n",
      " ('Dorothy', [1]),\n",
      " ('Arlo', [1]),\n",
      " ('Franklyn', [1]),\n",
      " ('Jens', [0]),\n",
      " ('Calli', [1]),\n",
      " ('Lea', [1]),\n",
      " ('Boniface', [0]),\n",
      " ('Waylon', [0]),\n",
      " ('Sayers', [0]),\n",
      " ('Joann', [1]),\n",
      " ('Jacquie', [1]),\n",
      " ('Serge', [0]),\n",
      " ('Earl', [0]),\n",
      " ('Hezekiah', [0]),\n",
      " ('Vale', [1]),\n",
      " ('Miranda', [1]),\n",
      " ('Archon', [0]),\n",
      " ('Cloe', [1]),\n",
      " ('Ely', [0]),\n",
      " ('Marin', [0]),\n",
      " ('Kathe', [1]),\n",
      " ('Kendrick', [0]),\n",
      " ('Ishmael', [0]),\n",
      " ('Husain', [0]),\n",
      " ('Hanford', [0]),\n",
      " ('Grace', [1]),\n",
      " ('Bernie', [0]),\n",
      " ('Nevin', [0]),\n",
      " ('Scarface', [0]),\n",
      " ('Douglass', [0]),\n",
      " ('Mirabella', [1]),\n",
      " ('Cat', [0]),\n",
      " ('Merrel', [1]),\n",
      " ('Raquel', [1]),\n",
      " ('Sara', [1]),\n",
      " ('Allis', [1]),\n",
      " ('Darth', [0]),\n",
      " ('Love', [1]),\n",
      " ('Allie', [1]),\n",
      " ('Leanna', [1]),\n",
      " ('Pammy', [1]),\n",
      " ('Astra', [1]),\n",
      " ('Jerrold', [0]),\n",
      " ('Miles', [0]),\n",
      " ('Sebastian', [0]),\n",
      " ('Cam', [1]),\n",
      " ('Bev', [0]),\n",
      " ('Prasad', [0]),\n",
      " ('Charleton', [0]),\n",
      " ('Madeleine', [1]),\n",
      " ('Marybeth', [1]),\n",
      " ('Sherilyn', [1]),\n",
      " ('Yankee', [0]),\n",
      " ('Shani', [1]),\n",
      " ('Tania', [1]),\n",
      " ('Harland', [0]),\n",
      " ('Julietta', [1]),\n",
      " ('Lanie', [1]),\n",
      " ('Pen', [0]),\n",
      " ('Shana', [1]),\n",
      " ('Muriel', [1]),\n",
      " ('Bart', [0]),\n",
      " ('Patsy', [0]),\n",
      " ('Averill', [0]),\n",
      " ('Jonah', [0]),\n",
      " ('Meir', [0]),\n",
      " ('Bjorn', [0]),\n",
      " ('Sofie', [1]),\n",
      " ('Sondra', [1]),\n",
      " ('Skye', [1]),\n",
      " ('Zed', [0]),\n",
      " ('Gisele', [1]),\n",
      " ('Peter', [0]),\n",
      " ('Zsa Zsa', [1]),\n",
      " ('Orin', [1]),\n",
      " ('Magna', [0]),\n",
      " ('Brodie', [0]),\n",
      " ('Mendel', [0]),\n",
      " ('Sibel', [1]),\n",
      " ('Von', [0]),\n",
      " ('Jessa', [1]),\n",
      " ('Alston', [0]),\n",
      " ('Karl', [0]),\n",
      " ('Kiri', [1]),\n",
      " ('Barclay', [0]),\n",
      " ('Chastity', [1]),\n",
      " ('Clemente', [0]),\n",
      " ('Prince', [0]),\n",
      " ('Garret', [0]),\n",
      " ('Cass', [1]),\n",
      " ('Jasper', [1]),\n",
      " ('Wanda', [1]),\n",
      " ('Kelly', [1]),\n",
      " ('Elias', [0]),\n",
      " ('Montague', [0]),\n",
      " ('Kai', [1]),\n",
      " ('Robbin', [0]),\n",
      " ('Farah', [1]),\n",
      " ('Robin', [1]),\n",
      " ('Rhett', [0]),\n",
      " ('Shaun', [0]),\n",
      " ('Romain', [1]),\n",
      " ('Sylvan', [1]),\n",
      " ('Rolfe', [0]),\n",
      " ('Jenette', [1]),\n",
      " ('Ingmar', [0]),\n",
      " ('Tyne', [0]),\n",
      " ('Garth', [0]),\n",
      " ('Giana', [1]),\n",
      " ('Pierson', [0]),\n",
      " ('Tab', [0]),\n",
      " ('Roseanna', [1]),\n",
      " ('Faye', [1]),\n",
      " ('Helen-Elizabeth', [1]),\n",
      " ('Stavros', [0]),\n",
      " ('Ekaterina', [1]),\n",
      " ('Lela', [1]),\n",
      " ('Sayre', [0]),\n",
      " ('Alleen', [1]),\n",
      " ('Viva', [1]),\n",
      " ('Swen', [1]),\n",
      " ('Natale', [1]),\n",
      " ('Nat', [1]),\n",
      " ('Lizzy', [1]),\n",
      " ('Tabby', [1]),\n",
      " ('Debra', [1]),\n",
      " ('Thorsten', [0]),\n",
      " ('Judith', [1]),\n",
      " ('Melita', [1]),\n",
      " ('Han', [0]),\n",
      " ('Rutger', [0]),\n",
      " ('Liliane', [1]),\n",
      " ('Emelia', [1]),\n",
      " ('Abram', [0]),\n",
      " ('Ronna', [0]),\n",
      " ('Candace', [1]),\n",
      " ('Douglas', [0]),\n",
      " ('Wainwright', [0]),\n",
      " ('Julian', [0]),\n",
      " ('Mimi', [1]),\n",
      " ('Mariette', [1]),\n",
      " ('Giles', [0]),\n",
      " ('Isa', [1]),\n",
      " ('Keren', [1]),\n",
      " ('Merl', [0]),\n",
      " ('Murray', [0]),\n",
      " ('Hilbert', [0]),\n",
      " ('Loraine', [1]),\n",
      " ('Torr', [0]),\n",
      " ('Nadine', [1]),\n",
      " ('Leonid', [0]),\n",
      " ('Jabez', [0]),\n",
      " ('Julia', [1]),\n",
      " ('Guinevere', [1]),\n",
      " ('Royal', [0]),\n",
      " ('Phil', [0]),\n",
      " ('Marta', [1]),\n",
      " ('Gerry', [0]),\n",
      " ('Sioux', [1]),\n",
      " ('Wilson', [0]),\n",
      " ('Pablo', [0]),\n",
      " ('Michaela', [1]),\n",
      " ('Charmane', [1]),\n",
      " ('Gunner', [0]),\n",
      " ('Easter', [1]),\n",
      " ('Beret', [1]),\n",
      " ('Thor', [0]),\n",
      " ('Ernst', [0]),\n",
      " ('Chas', [0]),\n",
      " ('Briggs', [0]),\n",
      " ('Juliet', [1]),\n",
      " ('Herve', [1]),\n",
      " ('Cherry', [1]),\n",
      " ('Chariot', [0]),\n",
      " ('Gusty', [1]),\n",
      " ('Karin', [1]),\n",
      " ('Eleonora', [1]),\n",
      " ('Shilpa', [1]),\n",
      " ('Ole', [1]),\n",
      " ('Lark', [0]),\n",
      " ('Noble', [0]),\n",
      " ('Yoko', [1]),\n",
      " ('Valentine', [1]),\n",
      " ('Woodrow', [0]),\n",
      " ('Connolly', [0]),\n",
      " ('Belinda', [1]),\n",
      " ('Martina', [1]),\n",
      " ('Sephira', [1]),\n",
      " ('Fernandina', [1]),\n",
      " ('Welsh', [0]),\n",
      " ('Nanette', [1]),\n",
      " ('Modesty', [1]),\n",
      " ('Nanni', [1]),\n",
      " ('Costa', [1]),\n",
      " ('Tobie', [1]),\n",
      " ('Pail', [0]),\n",
      " ('Dani', [1]),\n",
      " ('Lorne', [0]),\n",
      " ('Valli', [1]),\n",
      " ('Dido', [1]),\n",
      " ('Sheri', [1]),\n",
      " ('Alpa', [0]),\n",
      " ('Nealy', [1]),\n",
      " ('Maximilian', [0]),\n",
      " ('Sophia', [1]),\n",
      " ('Julianne', [0]),\n",
      " ('Freeman', [0]),\n",
      " ('Sholom', [1]),\n",
      " ('Filipe', [0]),\n",
      " ('Elijah', [0]),\n",
      " ('Theresa-Marie', [1]),\n",
      " ('Carmine', [1]),\n",
      " ('Agamemnon', [0]),\n",
      " ('Josefina', [1]),\n",
      " ('Roze', [1]),\n",
      " ('Gen', [0]),\n",
      " ('Spencer', [0]),\n",
      " ('Yaakov', [0]),\n",
      " ('Elizabeth', [1]),\n",
      " ('Alison', [1]),\n",
      " ('Manny', [0]),\n",
      " ('Kaspar', [0]),\n",
      " ('Lester', [0]),\n",
      " ('Hewitt', [0]),\n",
      " ('Demetrius', [0]),\n",
      " ('Arvind', [0]),\n",
      " ('Misti', [1]),\n",
      " ('Taylor', [0]),\n",
      " ('Rana', [1]),\n",
      " ('Tobe', [1]),\n",
      " ('Alexei', [0]),\n",
      " ('Carlin', [0]),\n",
      " ('Russel', [0]),\n",
      " ('Nettle', [1]),\n",
      " ('Karry', [1]),\n",
      " ('Maddie', [1]),\n",
      " ('Willie', [0]),\n",
      " ('Agatha', [1]),\n",
      " ('Carlin', [0]),\n",
      " ('Barnett', [0]),\n",
      " ('Hunt', [0]),\n",
      " ('Juan', [0]),\n",
      " ('Lani', [1]),\n",
      " ('Sigrid', [1]),\n",
      " ('Tailor', [0]),\n",
      " ('Randal', [0]),\n",
      " ('Kimbra', [1]),\n",
      " ('Parsifal', [1]),\n",
      " ('Leila', [1]),\n",
      " ('Lamont', [0])]\n"
     ]
    }
   ],
   "source": [
    "predictions = []\n",
    "\n",
    "for x_batch, _ in val_dataloader:\n",
    "    p_batch = infer_batch(f, x_batch, device).cpu().numpy().tolist()\n",
    "    predictions.extend(p_batch)\n",
    "    \n",
    "from pprint import pprint\n",
    "pprint(list(zip(names_val, predictions)))"
   ]
  },
  {
   "cell_type": "markdown",
   "metadata": {},
   "source": [
    "Very convincing! What are these word vectors and how are they helping our network predict baby genders?  🤔\n",
    "\n",
    "Do the first assignment and find out!"
   ]
  },
  {
   "cell_type": "markdown",
   "metadata": {},
   "source": [
    "---"
   ]
  }
 ],
 "metadata": {
  "kernelspec": {
   "display_name": "Python 3",
   "language": "python",
   "name": "python3"
  },
  "language_info": {
   "codemirror_mode": {
    "name": "ipython",
    "version": 3
   },
   "file_extension": ".py",
   "mimetype": "text/x-python",
   "name": "python",
   "nbconvert_exporter": "python",
   "pygments_lexer": "ipython3",
   "version": "3.8.5"
  }
 },
 "nbformat": 4,
 "nbformat_minor": 2
}
